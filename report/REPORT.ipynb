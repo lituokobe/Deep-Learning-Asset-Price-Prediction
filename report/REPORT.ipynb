{
 "cells": [
  {
   "cell_type": "markdown",
   "id": "66beaf5a-b313-4bc2-a1ea-b84dab7936bc",
   "metadata": {},
   "source": [
    "# Problem Statement\n",
    "\n",
    "This report serves as my final project for the CQF program.\n",
    "\n",
    "The objective is to develop a model that predicts **daily upward movements** in the stock price of [**Adobe**](https://www.adobe.com/) (ticker: ADBE), using Long Short-Term Memory (LSTM) networks. The choice of Adobe pays tribute to my early career as a graphic designer, during which Adobe tools accompanied me through one of the most creative periods of my life.\n",
    "\n",
    "The target variable is a binomial classification labeled as $[0, 1]$, where $1$ indicates a positive price movement. The model will be trained, evaluated, and tested on a five-year dataset spanning **from January 1, 2020 to July 1, 2025**.\n",
    "\n",
    "_The report highlights the project workflow, covering decision flows, mathematical rationale, and analytical insights. For the full executable code, please refer to `DL Tuo Li CODE/DL Tuo Li CODE.ipynb`._\n"
   ]
  },
  {
   "attachments": {},
   "cell_type": "markdown",
   "id": "b85490d3-3bc2-4363-a1c3-8c913f8caf7e",
   "metadata": {},
   "source": [
    "<a id='content'></a>\n",
    "# Content # \n",
    "#### [1. Preparation](#1)\n",
    "\n",
    "#### [2. Feature Engineering](#2)\n",
    "- [2.1 Define the target](#2.1)\n",
    "    - [2.1.1 Decide the threshold](#2.1.1)\n",
    "    - [2.1.2 Check class imbalance](#2.1.2)\n",
    "- [2.2 Generate features](#2.2)\n",
    "    - [2.2.1 Features from trading data](#2.2.1)\n",
    "        - [2.2.1.1 Weekday transformation](#2.2.1.1)\n",
    "        - [2.2.1.2 Technical features from trading data](#2.2.1.2)\n",
    "    - [2.2.2 Features from other resources](#2.2.2)\n",
    "    - [2.2.3 Features from macro environment](#2.2.3)\n",
    "        - [2.2.3.1 Features from QQQ](#2.2.3.1)\n",
    "        - [2.2.3.2 Features from macro economy](#2.2.3.2)\n",
    "#### [3. Exploratory Data Analysis (EDA)](#3)\n",
    "- [3.1 Structural evaluation](#3.1)\n",
    "    - [3.1.1 Handle the missing values](#3.1.1)\n",
    "    - [3.1.2 Create the feature X and the target y](#3.1.2)\n",
    "    - [3.1.3 Explore feature distribution and analyze outliers](#3.1.3)\n",
    "        - [3.1.3.1 Visualize the features](#3.1.3.1)\n",
    "        - [3.1.3.2 Group the features](#3.1.3.2)\n",
    "        - [3.1.3.3 Scale the features](#3.1.3.3)\n",
    "- [3.2 SHAP analysis and feature relationship exploration](#3.2)\n",
    "    - [3.2.1 SHAP analysis](#3.2.1)\n",
    "    - [3.2.2 Explore relationships among high-impact features](#3.2.2)\n",
    "- [3.3 Analyze multi-collinearity and reduce dimensionality](#3.3)\n",
    "    - [3.3.1 VIF analysis and correlation heatmap](#3.3.1)\n",
    "    - [3.3.2 Reduce dimensionality](#3.3.2)\n",
    "        - [3.3.2.1 Cluster-based selection](#3.3.2.1)\n",
    "        - [3.3.2.2 Correlation-based selection](#3.3.2.2)\n",
    "#### [4. Model Building](#4)\n",
    "- [4.1 Prepare dataset](#4.1)\n",
    "    - [4.1.1 Split and scale the dataset](#4.1.1)\n",
    "    - [4.1.2 Create data generator](#4.1.2)\n",
    "- [4.2 Baseline model - 2 layer LSTM model without dropout](#4.2)\n",
    "    - [4.2.1 Build the model (2 layers without dropout)](#4.2.1)\n",
    "    - [4.2.2 Evaluate the model (2 layers without dropout)](#4.2.2)\n",
    "        - [4.2.2.1 Evaluate the training data against the testing data](#4.2.2.1)\n",
    "        - [4.2.2.2 Use the model to generate predictions on the testing data and conduct a more comprehensive performance analysis](#4.2.2.2)\n",
    "        - [4.2.2.3 Baseline model evaluation summary](#4.2.2.3)\n",
    "- [4.3 Variant model A - 2 layer LSTM model with dropout](#4.3)\n",
    "    - [4.3.1 Build the model (2 layers with dropout)](#4.3.1)\n",
    "    - [4.3.2 Evaluate the model (2 layers with dropout)](#4.3.2)\n",
    "        - [4.3.2.1 Evaluate the training data against the testing data](#4.3.2.1)\n",
    "        - [4.3.2.2 Use the model to generate predictions on the testing data and conduct a more comprehensive performance analysis](#4.3.2.2)\n",
    "        - [4.3.2.3 Model evaluation summary](#4.3.2.3)\n",
    "- [4.4 Variant model B - 3 layer LSTM model without dropout](#4.4)\n",
    "    - [4.4.1 Build the model (3 layers without dropout)](#4.4.1)\n",
    "    - [4.4.2 Evaluate the model (3 layers without dropout)](#4.4.2)\n",
    "        - [4.4.2.1 Evaluate the training data against the testing data](#4.4.2.1)\n",
    "        - [4.4.2.2 Use the model to generate predictions on the testing data and conduct a more comprehensive performance analysis](#4.4.2.2)\n",
    "        - [4.4.2.3 Baseline model evaluation summary](#4.4.2.3)\n",
    "- [4.5 Variant model C - 3 layer LSTM model with dropout](#4.5)\n",
    "    - [4.5.1 Build the model (3 layers with dropout)](#4.5.1)\n",
    "    - [4.5.2 Evaluate the model (3 layers with dropout)](#4.5.2)\n",
    "        - [4.5.2.1 Evalute the training data against the testing data](#4.5.2.1)\n",
    "        - [4.5.2.2 Use the model to generate predictions on the testing data and conduct a more comprehensive performance analysis](#4.5.2.2)\n",
    "        - [4.5.2.3 Model evaluation summary](#4.5.2.3)\n",
    "- [4.6 Review of all the models](#4.6)\n",
    "#### [5. Trading strategy with backtesting](#5)\n",
    "- [5.1 Profit analysis](#5.1)\n",
    "- [5.2 Sharpe ratio analysis](#5.2)\n",
    "- [5.3 Underwater curve analysis](#5.3)\n",
    "- [5.4 Pyfolio analysis](#5.4)\n",
    "#### [6. Conclusion](#6)"
   ]
  },
  {
   "cell_type": "markdown",
   "id": "95ce2a0e-939b-47f6-ab96-de25af84e898",
   "metadata": {},
   "source": [
    "<a id='1'></a>\n",
    "# 1. Preparation"
   ]
  },
  {
   "cell_type": "markdown",
   "id": "6c2dd421-7ad8-4758-a68b-893a54ee6d35",
   "metadata": {},
   "source": [
    "In this project, all data is presented in tabular format.\n",
    "\n",
    "The main dataset, reffered to as `df`, contains Adobe trading data from January 1, 2020 to July 1, 2025, sourced directly from [**MacroTrends**](https://www.macrotrends.net/).\n",
    "\n",
    "**Key characteristics of the dataset:**\n",
    "- Index: `date` (one row per trading day)\n",
    "\n",
    "- Total rows: 1381 (approx. 5.5 years of trading data)\n",
    "\n",
    "- Columns: 6\n",
    "  - `open`, `high`, `low`, `close` : float values representing price data\n",
    "\n",
    "  - `volume` : integer representing trading volume\n",
    "\n",
    "  - `weekday` : string indicating the trading day (Mon–Fri)\n",
    "\n",
    "- Data Quality : No missing values\n",
    "\n",
    "\n",
    "**Dataset preview (first 5 rows):**\n",
    "\n",
    "| date           | open     | high     | low      | close    | volume   | weekday |\n",
    "|----------------|----------|----------|----------|----------|----------|---------|\n",
    "| **2020-01-02** | 330.000  | 334.480  | 329.170  | 334.430  | 1990496  | Thu     |\n",
    "| **2020-01-03** | 329.170  | 332.980  | 328.690  | 331.810  | 1579368  | Fri     |\n",
    "| **2020-01-06** | 328.290  | 333.910  | 328.190  | 333.710  | 1875122  | Mon     |\n",
    "| **2020-01-07** | 334.150  | 334.790  | 332.305  | 333.390  | 2507261  | Tue     |\n",
    "| **2020-01-08** | 333.810  | 339.230  | 333.400  | 337.870  | 2248531  | Wed     |\n",
    "\n",
    "**Statistical summary of the numerical columns:**\n",
    "|             | count    | mean       | std        | min      | 25%      | 50%      | 75%      | max        |\n",
    "|-------------|----------|------------|------------|----------|----------|----------|----------|------------|\n",
    "| **open**    | 1381     | 466.742    | 93.730     | 277.800  | 384.970  | 470.480  | 526.035  | 696.275    |\n",
    "| **high**    | 1381     | 472.594    | 93.930     | 279.590  | 390.130  | 475.867  | 533.510  | 699.540    |\n",
    "| **low**     | 1381     | 460.621    | 93.216     | 255.131  | 380.945  | 462.480  | 519.560  | 678.910    |\n",
    "| **close**   | 1381     | 466.773    | 93.617     | 275.200  | 385.710  | 469.730  | 526.940  | 688.370    |\n",
    "| **volume**  | 1381     | 3149150.357| 1864608.743| 589182   |2104030   |2660097   |3582532   |27840211    |\n"
   ]
  },
  {
   "cell_type": "markdown",
   "id": "bc6a8659-211e-4ff1-88ab-b38214082a15",
   "metadata": {},
   "source": [
    "[**Back to Content**](#content)"
   ]
  },
  {
   "cell_type": "markdown",
   "id": "e7b61718-723a-42f6-baf4-380a0ed03217",
   "metadata": {},
   "source": [
    "<a id='2'></a>\n",
    "# 2. Feature Engineering"
   ]
  },
  {
   "cell_type": "markdown",
   "id": "9d8c87ca-743d-4dd5-9b70-d182bde570f9",
   "metadata": {},
   "source": [
    "In this chapter, I will define the target of the project and create all the possible features with different techniques."
   ]
  },
  {
   "cell_type": "markdown",
   "id": "e7143ee4-a7b8-49c7-8373-248207ea3280",
   "metadata": {},
   "source": [
    "<a id='2.1'></a>\n",
    "## 2.1 Define the target"
   ]
  },
  {
   "cell_type": "markdown",
   "id": "e0f19c0a-b2bc-4571-9935-ad96d9913d4c",
   "metadata": {},
   "source": [
    "<a id='2.1.1'></a>\n",
    "### 2.1.1 Decide the threshold"
   ]
  },
  {
   "cell_type": "markdown",
   "id": "e3522134-3ddc-4675-850a-8f432f325c86",
   "metadata": {},
   "source": [
    "Since this project focuses on predicting the direction of daily returns as a binomial classification $[0, 1]$, it's essential to establish a threshold for distinguishing between positive and negative returns.\n",
    "\n",
    "Before determining a suitable classification threshold, we will explore the data. The close price is used to represent the daily price od Adobe. Let's observe how the values in `close` column was evolving in the past 5 years.\n",
    "\n",
    "<center>\n",
    "  <img src=\"report_image/1_close_price.png\" alt=\"1_close_price\" width = 500>\n",
    "</center>"
   ]
  },
  {
   "cell_type": "markdown",
   "id": "8f795847-c95a-4da1-9355-5c8cfffe1899",
   "metadata": {},
   "source": [
    "Over the past five years, Adobe's price has shown significant volatility with a slight upward drift. \n",
    "\n",
    "To analyze this further, I will create a `return` column and examine the distribution of the daily return.\n",
    "\n",
    "Main dataset with the `return` column (first 5 rows):\n",
    "\n",
    "| date           | open     | high     | low      | close    | volume   | weekday |return   |\n",
    "|----------------|----------|----------|----------|----------|----------|---------|---------|\n",
    "| **2020-01-02** | 330.000  | 334.480  | 329.170  | 334.430  | 1990496  | Thu     | NaN     |\n",
    "| **2020-01-03** | 329.170  | 332.980  | 328.690  | 331.810  | 1579368  | Fri     | -0.008  |\n",
    "| **2020-01-06** | 328.290  | 333.910  | 328.190  | 333.710  | 1875122  | Mon     | 0.006   |\n",
    "| **2020-01-07** | 334.150  | 334.790  | 332.305  | 333.390  | 2507261  | Tue     | -0.001  |\n",
    "| **2020-01-08** | 333.810  | 339.230  | 333.400  | 337.870  | 2248531  | Wed     | 0.013   |\n",
    "\n",
    "The distribution histogram of the returns:\n",
    "<center>\n",
    "  <img src=\"report_image/2_return_distribution.png\" alt=\"2_return_distribution\" width =850>\n",
    "</center>"
   ]
  },
  {
   "cell_type": "markdown",
   "id": "e63cf790-3fdb-4299-b337-f3f392343bff",
   "metadata": {},
   "source": [
    "As illustrated in the histogram, Adobe's daily returns exhibit a roughly normal distribution with a slight positive skew.\n",
    "\n",
    "To optimize classification performance, I set the threshold at $0.2\\%$ for the following reasons:\n",
    "\n",
    "- It approximately splits the dataset evenly, minimizing class imbalance and helping stabilize model training.\n",
    "\n",
    "- The primary objective is to generate meaningful predictions for positive market moves (class 1). A positive threshold ensures that class 1 predictions are significant if the model performs well, while also providing room to account for transaction costs in reality.\n",
    "\n",
    "Under this target definition:\n",
    "\n",
    "- A value of $1$ is assigned when the next day's closing price is at least $0.2\\%$ higher than the current day's close, indicating a potential buying opportunity. Otherwise, no action is taken.\n",
    "\n",
    "- Returns below $0.2\\%$ are labeled as $0$.\n",
    "\n",
    "Main dataset (first 5 rows) with the newly created `target` column which indicates whether the next day's return is greater than $0.2\\%$ or not:\n",
    "\n",
    "| date           | open     | high     | low      | close    | volume   | weekday |return   |target   |\n",
    "|----------------|----------|----------|----------|----------|----------|---------|---------|---------|\n",
    "| **2020-01-02** | 330.000  | 334.480  | 329.170  | 334.430  | 1990496  | Thu     | NaN     |0        |\n",
    "| **2020-01-03** | 329.170  | 332.980  | 328.690  | 331.810  | 1579368  | Fri     | -0.008  |1        |\n",
    "| **2020-01-06** | 328.290  | 333.910  | 328.190  | 333.710  | 1875122  | Mon     | 0.006   |0        |\n",
    "| **2020-01-07** | 334.150  | 334.790  | 332.305  | 333.390  | 2507261  | Tue     | -0.001  |1        |\n",
    "| **2020-01-08** | 333.810  | 339.230  | 333.400  | 337.870  | 2248531  | Wed     | 0.013   |1        |"
   ]
  },
  {
   "cell_type": "markdown",
   "id": "a55ae787-7fa2-423c-945a-d48dcdd3c3d4",
   "metadata": {},
   "source": [
    "<a id='2.1.2'></a>\n",
    "### 2.1.2 Check class imbalance"
   ]
  },
  {
   "cell_type": "markdown",
   "id": "9a050f89-48b8-434e-9baa-51c217738b27",
   "metadata": {},
   "source": [
    "With a threshold of $0.2\\%$, in the `target` column, class 0 ($715$ samples) represents $51.77\\%$ of the data, while class 1 ($666$ samples) represents $48.23\\%$. \n",
    "\n",
    "The data is nearly balanced, so we do not need to be concerned about target imbalance."
   ]
  },
  {
   "cell_type": "markdown",
   "id": "4010638c-83cb-448b-9a82-e8d1dab6a46f",
   "metadata": {},
   "source": [
    "[**Back to Content**](#content)"
   ]
  },
  {
   "cell_type": "markdown",
   "id": "41c96fa9-abe0-4ced-8f00-f47174b5f35f",
   "metadata": {},
   "source": [
    "<a id='2.2'></a>\n",
    "## 2.2 Generate features"
   ]
  },
  {
   "cell_type": "markdown",
   "id": "3b865220-a48e-4941-82e7-3a43fc356546",
   "metadata": {},
   "source": [
    "<a id='2.2.1'></a>\n",
    "### 2.2.1 Features from trading data"
   ]
  },
  {
   "cell_type": "markdown",
   "id": "96ff0d31-2181-4bfd-97d7-4a633e9b8c7d",
   "metadata": {},
   "source": [
    "<a id='2.2.1.1'></a>\n",
    "#### 2.2.1.1 Weekday transformation\n",
    "Weekday patterns can influence stock price behavior, so this temporal feature is included in our model.\n",
    "\n",
    "Instead of using traditional one-hot encoding, which expands weekdays into five separate columns, we apply a trigonometric transformation using sine and cosine functions. This method captures the cyclical nature of weekdays, particularly the continuity between Friday and Monday, while adding only two numerical columns. This improves efficiency and preserves temporal structure.\n",
    "\n",
    "The formulas for the new features `dsin` and `dcos` are:\n",
    "$$\\text{dsin} =  sin(\\frac{2{\\pi}*\\text{num}}{7})$$\n",
    "$$\\text{dcos} =  cos(\\frac{2{\\pi}*\\text{num}}{7})$$\n",
    "Where `num` is the numerical representation of the weekday:\n",
    "- $1$ : Monday\n",
    "\n",
    "- $2$ : Tuesday\n",
    "\n",
    "- $3$ : Wednesday\n",
    "\n",
    "- $4$ : Thursday\n",
    "\n",
    "- $5$ : Friday\n",
    "\n",
    "This transformation ensures the model understands the cyclical flow of time without inflating the feature space.\n",
    "\n",
    "Below is the updated dataset (first 5 rows) with the 2 new features. The original `weekday` column is removed.\n",
    "\n",
    "| date           | open     | high     | low      | close    | volume   | return  | target | dsin   | dcos   |\n",
    "|----------------|----------|----------|----------|----------|----------|---------|--------|--------|--------|\n",
    "| **2020-01-02** | 330.000  | 334.480  | 329.170  | 334.430  | 1990496  | NaN     | 0      | -0.434 | -0.901 |\n",
    "| **2020-01-03** | 329.170  | 332.980  | 328.690  | 331.810  | 1579368  | -0.008  | 1      | -0.975 | -0.223 |\n",
    "| **2020-01-06** | 328.290  | 333.910  | 328.190  | 333.710  | 1875122  | 0.006   | 0      | 0.782  | 0.623  |\n",
    "| **2020-01-07** | 334.150  | 334.790  | 332.305  | 333.390  | 2507261  | -0.001  | 1      | 0.975  | -0.223 |\n",
    "| **2020-01-08** | 333.810  | 339.230  | 333.400  | 337.870  | 2248531  | 0.013   | 1      | 0.434  | -0.901 |\n"
   ]
  },
  {
   "cell_type": "markdown",
   "id": "f8dcafee-e62f-479a-958d-a2e627f484b6",
   "metadata": {},
   "source": [
    "[**Back to Content**](#content)"
   ]
  },
  {
   "cell_type": "markdown",
   "id": "0e68a994-1fc4-4b3a-bc1c-ee99feba9187",
   "metadata": {},
   "source": [
    "<a id='2.2.1.2'></a>\n",
    "#### 2.2.1.2 Technical features from trading data\n",
    "Then, I will leverage the function of `add_all_ta_features` from `ta` library to automatically generate a wide range of technical indicators from the OHLCV (open, high, low, close, volume) data. This step efficiently enriches the dataset with 80+ indicators across the following categories:\n",
    "\n",
    "- **Volume**: OBV, CMF, MFI, NVI, ATR, etc.\n",
    "\n",
    "- **Volatility**: Bollinger Bands, Keltner Channels, Donchian Channels, etc.\n",
    "\n",
    "- **Trend**: SMA, EMA, MACD, ADX, Ichimoku, Parabolic SAR, Aroon, etc.\n",
    "\n",
    "- **Momentum**: RSI, Stochastic RSI, ROC, PPO, TSI, etc.\n",
    "\n",
    "- **Others**: daily returns, log returns, cumulative returns, etc.\n",
    "\n",
    "After generation, further feature refinement steps are applied:\n",
    "\n",
    "**1. Remove redundant return feature**  \n",
    "Since the daily return is already present in the dataset, the duplicated `others_dr` feature generated by `add_all_ta_features` is dropped to avoid redundancy.\n",
    "\n",
    "\n",
    "**2. Consolidate sparse PSAR trend signals**  \n",
    "Among the trend indicators generated by `add_all_ta_features`, `trend_psar_up` and `trend_psar_down` exhibit a high number of missing values due to the mechanics of the Parabolic SAR (PSAR), which trails price movements using a dynamic stop level. The PSAR is computed as:\n",
    "\n",
    "$$\n",
    "PSAR_t = PSAR_{t−1} + AF \\cdot (EP_{t−1} − PSAR_{t−1})\n",
    "$$\n",
    "Where:\n",
    "- $AF$ is the acceleration factor, starting at $0.02$ and capped at $0.2$\n",
    "\n",
    "- $EP$ is the extreme point (highest high during an uptrend or lowest low during a downtrend) \n",
    "\n",
    "Explanation of the features:\n",
    "- `trend_psar_up`: Contains PSAR values during uptrends (dots below price), otherwise NaN\n",
    "\n",
    "- `trend_psar_down`: Contains PSAR values during downtrends (dots above price), otherwise NaN\n",
    "\n",
    "To simplify, I create a new feature column `psar_trend` with directional encoding to interpret the information from these 2 features::\n",
    "\n",
    "- `1` for uptrend\n",
    "\n",
    "- `-1` for downtrend\n",
    "\n",
    "- `0` for neutral\n",
    "\n",
    "After generating `psar_trend`, the original two PSAR columns are removed to reduce sparsity and simplify the feature set.\n",
    "\n",
    "**3. Transform drift/non-stationary price-reflective features**  \n",
    "Several generated features directly reflect price movement, inheriting drift and non-stationarity:\n",
    "- `trend_sma_fast`, `trend_sma_slow`, `trend_ema_fast`, `trend_ema_slow`\n",
    "\n",
    "- `trend_ichimoku_conv`, `trend_ichimoku_base`, `trend_ichimoku_a`, `trend_ichimoku_b`\n",
    "\n",
    "- `trend_visual_ichimoku_a`, `trend_visual_ichimoku_b` \n",
    "\n",
    "Using standard or minmax scalers on them would cause data leakage, as future non-stationary values affect scaling. To address this, these features are converted into relative ratios by being divided with the day’s closing price. For example:  \n",
    "$$\\text{trend\\_sma\\_fast\\_div\\_close} = \\frac{\\text{trend\\_sma\\_fast}}{\\text{close}}$$\n",
    "\n",
    "This transformation reduces drift, normalizes scale, and preserves interpretability without leakage. The original columns of them are then removed and replaced by the newly created ones.\n",
    "\n",
    "**4. Add more features for daily variance**  \n",
    "Finally, I manually include two basic range-based features to capture intraday price movement:\n",
    "$$\\text{h-l} = \\text{high} - \\text{low}$$\n",
    "$$\\text{o-c} = \\text{open} - \\text{close}$$"
   ]
  },
  {
   "cell_type": "markdown",
   "id": "9cae3be6-58e3-478f-a87c-666964f89dc1",
   "metadata": {},
   "source": [
    "After applying feature enrichment from `add_all_ta_features` and above methods, **we now have 95 columns in the main dataset**:\n",
    "- **Original OHLCV data:** `open`, `high`, `low`, `close`, `volume`\n",
    "\n",
    "- **Return and target:** `return`, `target`\n",
    "\n",
    "- **Trigonometric weekday features:** `dsin`, `dcos`\n",
    "\n",
    "- **Volume features:** `volume_adi`, `volume_obv`, `volume_cmf`, `volume_fi`, `volume_em`, `volume_sma_em`, `volume_vpt`, `volume_vwap`, `volume_mfi`, `volume_nvi`\n",
    "\n",
    "- **Volatility features:** `volatility_bbm`, `volatility_bbh`, `volatility_bbl`, `volatility_bbw`, `volatility_bbp`, `volatility_bbhi`, `volatility_bbli`, `volatility_kcc`, `volatility_kch`, `volatility_kcl`, `volatility_kcw`, `volatility_kcp`, `volatility_kchi`, `volatility_kcli`, `volatility_dcl`, `volatility_dch`, `volatility_dcm`, `volatility_dcw`, `volatility_dcp`, `volatility_atr`, `volatility_ui`\n",
    "\n",
    "- **Trend features:** `trend_macd`, `trend_macd_signal`, `trend_macd_diff`, `trend_vortex_ind_pos`, `trend_vortex_ind_neg`, `trend_vortex_ind_diff`, `trend_trix`, `trend_mass_index`, `trend_dpo`, `trend_kst`, `trend_kst_sig`, `trend_kst_diff`, `trend_stc`, `trend_adx`, `trend_adx_pos`, `trend_adx_neg`, `trend_cci`, `trend_aroon_up`, `trend_aroon_down`, `trend_aroon_ind`, `trend_psar_up_indicator`, `trend_psar_down_indicator`, `psar_trend`\n",
    "\n",
    "- **Transformed trend features (drift removed):** `trend_sma_fast_div_close`, `trend_sma_slow_div_close`, `trend_ema_fast_div_close`, `trend_ema_slow_div_close`, `trend_ichimoku_conv_div_close`, `trend_ichimoku_base_div_close`, `trend_ichimoku_a_div_close`, `trend_ichimoku_b_div_close`, `trend_visual_ichimoku_a_div_close`, `trend_visual_ichimoku_b_div_close`\n",
    "\n",
    "- **Momentum features:** `momentum_rsi`, `momentum_stoch_rsi`, `momentum_stoch_rsi_k`, `momentum_stoch_rsi_d`, `momentum_tsi`, `momentum_uo`, `momentum_stoch`, `momentum_stoch_signal`, `momentum_wr`, `momentum_ao`, `momentum_roc`, `momentum_ppo`, `momentum_ppo_signal`, `momentum_ppo_hist`, `momentum_pvo`, `momentum_pvo_signal`, `momentum_pvo_hist`, `momentum_kama`\n",
    "\n",
    "- **Other return related features:** `others_dlr`, `others_cr`,\n",
    "\n",
    "- **Daily variance features:** `h-l`, `o-c`\n",
    "\n",
    "All columns contain numeric values, either as floats or integers."
   ]
  },
  {
   "cell_type": "markdown",
   "id": "6af31449-3e40-455b-a6a7-e3d248bfb6be",
   "metadata": {},
   "source": [
    "[**Back to Content**](#content)"
   ]
  },
  {
   "cell_type": "markdown",
   "id": "434359ee-d226-41ed-a2a2-18263af14712",
   "metadata": {},
   "source": [
    "<a id='2.2.2'></a>\n",
    "### 2.2.2 Features from other resources"
   ]
  },
  {
   "cell_type": "markdown",
   "id": "f47a12ac-6c3f-4163-bd12-7a39a690b1a2",
   "metadata": {},
   "source": [
    "Stock prices can be influenced by a variety of factors beyond trading data itself—such as investor sentiment reflected in news coverage, CDS spreads, and dividend history.\n",
    "\n",
    "After thorough research, I found that Adobe’s CDS spread data is not publicly available, and the company has not issued any dividends since 2005. As a result, this section will focus on extracting sentiment signals from Adobe-related news headlines published between 1 Jan 2020 and 1 July 2025.\n",
    "\n",
    "The news data was downloaded and processed in the `DL Tuo Li CODE/DL Tuo Li Appendix_news_process.ipynb` notebook. The processed news dataset is indexed by date, spanning from January 1, 2020 to July 1, 2025, aligning with the main dataset. It contains two columns that quantify news-driven signals for each calendar day:\n",
    "\n",
    "- `news_sentiment_score`: indicates whether the news titles expressed a positive and negative feeling that could impact Adobe's price. The value is between $-1$ and $1$, and $-1$ means highly negative, $0$ means nuetral while $1$ means highly positive. \n",
    "\n",
    "- `news_emotion_intensity`: determines if the titles' emotion is high or Low. The value ranges from $0$ to $1$, and $0$ means extremely low while $1$ means extremely high. \n",
    "\n",
    "These metrics were generated by the AI LLM model that automatically analyzed daily Adobe news titles. If no relevant news was published on a particular day, that date is omitted from the index.\n",
    "\n",
    "Here is the first 5 row of this news dataset:\n",
    "\n",
    "| date       | news_sentiment_score | news_emotion_intensity  |\n",
    "|------------|----------------------|-------------------------|\n",
    "| 2020-01-01 | 0.000                | 0.000                   |\n",
    "| 2020-01-03 | 0.450                | 0.580                   |\n",
    "| 2020-01-06 | 0.000                | 0.000                   |\n",
    "| 2020-01-09 | 0.150                | 0.400                   |\n",
    "| 2020-01-10 | 0.000                | 0.000                   |\n",
    "\n",
    "\n",
    "Then I merge it with the main dataset. **And the main dataset has 97 columns now.**"
   ]
  },
  {
   "cell_type": "markdown",
   "id": "6ebd494e-2e8f-4f10-b981-d536c783ec44",
   "metadata": {},
   "source": [
    "[**Back to Content**](#content)"
   ]
  },
  {
   "cell_type": "markdown",
   "id": "a4954d43-8c29-46bd-86a7-50967b09e94f",
   "metadata": {},
   "source": [
    "<a id='2.2.3'></a>\n",
    "### 2.2.3 Features from macro environment"
   ]
  },
  {
   "cell_type": "markdown",
   "id": "f5ebd340-e99b-4c33-ae6f-a58af434bf43",
   "metadata": {},
   "source": [
    "<a id='2.2.3.1'></a>\n",
    "#### 2.2.3.1 Features from QQQ"
   ]
  },
  {
   "cell_type": "markdown",
   "id": "bafb73f3-5e3a-4667-bb4f-5f516736a025",
   "metadata": {},
   "source": [
    "Invesco QQQ (ticker: QQQ) is an exchange-traded fund (ETF) that tracks the Nasdaq-100 Index, which includes 100 of the largest non-financial companies listed on the Nasdaq, such as Apple, Amazon, Adobe and Nvidia.\n",
    "\n",
    "It is heavily weighted toward large-cap technology stocks, and often viewed as a proxy for the tech sector’s overall health. QQQ's price reflects aggregated investor sentiment toward high-growth, large-cap tech stocks.\n",
    "\n",
    "QQQ can act as a sentiment barometer for Adobe’s ecosystem. Including QQQ data will improve the model’s ability to predict uptrend probabilities by incorporating macro and sector signals."
   ]
  },
  {
   "cell_type": "markdown",
   "id": "8216197a-619f-47fe-8c08-738c203520d2",
   "metadata": {},
   "source": [
    "The QQQ trading data was also sourced from MacroTrend website, with standard OHLCV information.\n",
    "\n",
    "Below is the preview of the QQQ dataset with first 5 rows:\n",
    "\n",
    "| date         | open     | high     | low      | close    | volume    | weekday |\n",
    "|--------------|----------|----------|----------|----------|-----------|---------|\n",
    "| **2020-01-02** | 207.096  | 208.796  | 206.690  | 208.796  | 29958247  | Thu     |\n",
    "| **2020-01-03** | 206.023  | 208.129  | 206.014  | 206.883  | 26594637  | Fri     |\n",
    "| **2020-01-06** | 205.251  | 208.245  | 205.009  | 208.216  | 20986764  | Mon     |\n",
    "| **2020-01-07** | 208.293  | 208.776  | 207.530  | 208.187  | 22333269  | Tue     |\n",
    "| **2020-01-08** | 208.129  | 210.708  | 207.830  | 209.752  | 25562588  | Wed     |\n",
    "\n",
    "Stastical summary of the numerical columns:\n",
    "|           | count     | mean         | std          | min        | 25%        | 50%        | 75%        | max         |\n",
    "|-----------|-----------|--------------|--------------|------------|------------|------------|------------|-------------|\n",
    "| **open**  | 1381      | 353.366      | 89.170       | 165.448    | 287.310    | 344.309    | 422.327    | 551.260     |\n",
    "| **high**  | 1381      | 356.212      | 89.304       | 168.633    | 289.908    | 346.220    | 426.196    | 552.800     |\n",
    "| **low**   | 1381      | 350.316      | 88.836       | 159.650    | 283.839    | 341.277    | 419.791    | 549.010     |\n",
    "| **close** | 1381      | 353.462      | 89.109       | 163.532    | 286.743    | 343.896    | 422.211    | 551.640     |\n",
    "| **volume**| 1381      | 48326455.122 | 21716833.598 | 15225092   | 33335184   | 44701851   | 57932013   | 194966806   |\n"
   ]
  },
  {
   "cell_type": "markdown",
   "id": "a4b7e03c-b39a-4ff3-b538-7b39a889d134",
   "metadata": {},
   "source": [
    "In order to better leverage the information provided by QQQ trading data, we will also need to perform some feature engineering with this dataset.\n",
    "\n",
    "First, generate a new feature `qqq_adobe_corr_20` that captures the correlation between QQQ and Adobe daily returns. By calculating a 20-day rolling correlation, this feature reflects sector-level alignment and helps quantify how closely Adobe’s price movements track broader technology trends represented by QQQ.\n",
    "\n",
    "Then, add technical features from QQQ's trading data. As QQQ's data is only supportive in this project, I won't add the full set of technical features. Instead, I will focus on several key ones:\n",
    "- 10 day SMA divided by close price and 10 day EMA divided by close price\n",
    "\n",
    "- ATR, BBANDS, RIS and MACD\n",
    "\n",
    "- H-L and O-C\n",
    "\n",
    "Finally, select relevant QQQ features and merge it with the main dataset.\n",
    "\n",
    "Below is a preview of the selected QQQ features with last 5 rows. For ease of display, it is split into two parts.\n",
    "\n",
    "| date           | qqq_volume | qqq_adobe_corr_20 | qqq_sma_10_div_close | qqq_ema_10_div_close |\n",
    "|----------------|------------|-------------------|-----------------------|-----------------------|\n",
    "| **2025-06-25** | 44804200   | 0.643             | 0.983                 | 0.984                 |\n",
    "| **2025-06-26** | 43811400   | 0.635             | 0.977                 | 0.980                 |\n",
    "| **2025-06-27** | 57577100   | 0.638             | 0.976                 | 0.981                 |\n",
    "| **2025-06-30** | 45548700   | 0.661             | 0.974                 | 0.979                 |\n",
    "| **2025-07-01** | 56166700   | 0.638             | 0.985                 | 0.990                 |\n",
    "\n",
    "\n",
    "| date           | qqq_atr | qqq_bbands_l | qqq_bbands_m | qqq_bbands_u | qqq_rsi | qqq_macd | qqq_h-l | qqq_o-c |\n",
    "|----------------|---------|--------------|--------------|--------------|---------|-----------|----------|----------|\n",
    "| **2025-06-25** | 6.799   | 520.018      | 533.445      | 546.872      | 62.291  | 8.254     | 3.930    | 0.900    |\n",
    "| **2025-06-26** | 6.452   | 521.058      | 537.010      | 552.962      | 70.425  | 8.802     | 5.150    | -2.870   |\n",
    "| **2025-06-27** | 6.341   | 528.506      | 541.380      | 554.254      | 68.525  | 9.280     | 5.450    | -0.830   |\n",
    "| **2025-06-30** | 6.439   | 535.559      | 545.378      | 555.197      | 70.158  | 9.832     | 3.790    | -0.380   |\n",
    "| **2025-07-01** | 6.509   | 539.252      | 546.820      | 554.388      | 62.261  | 9.781     | 6.050    | 2.740    |\n"
   ]
  },
  {
   "cell_type": "markdown",
   "id": "e9909158-c852-40da-94f3-a441b1f92a48",
   "metadata": {},
   "source": [
    "As there are 12 features from QQQ newly included to the main dataset, **we now have 109 columns in the main dataset**."
   ]
  },
  {
   "cell_type": "markdown",
   "id": "ba8a229e-d1c0-4623-b904-43964a9d5c09",
   "metadata": {},
   "source": [
    "[**Back to Content**](#content)"
   ]
  },
  {
   "cell_type": "markdown",
   "id": "2fba0b1f-6ff4-425f-880b-99b77af45db0",
   "metadata": {},
   "source": [
    "<a id='2.2.3.2'></a>\n",
    "#### 2.2.3.2 Features from macro economy"
   ]
  },
  {
   "cell_type": "markdown",
   "id": "7035b64c-caf0-43c4-88d0-bdc9ca9e2883",
   "metadata": {},
   "source": [
    "Next, the Federal Funds Effective Rate is very possibly influencing Adobe share price movements, as the technology sector is highly sensitive to borrowing costs and liquidity, both of which are directly affected by rate fluctuations.  \n",
    "\n",
    "I have sourced monthly data from the Federal Reserve Bank of St. Louis and this rate is published monthly. Below is a preview with first 5 rows of the data.\n",
    "\n",
    "| observation_date     | FEDFUNDS |\n",
    "|----------------------|----------|\n",
    "| **2020-01-01**       | 1.550    |\n",
    "| **2020-02-01**       | 1.580    |\n",
    "| **2020-03-01**       | 0.650    |\n",
    "| **2020-04-01**       | 0.050    |\n",
    "| **2020-05-01**       | 0.050    |\n"
   ]
  },
  {
   "cell_type": "markdown",
   "id": "1bd39b25-2603-4ba9-b754-51137dd8c449",
   "metadata": {},
   "source": [
    "As the federal rate data is on a monthly basis, we need to map it to our main dataset using a forward-filling technique, ensuring that in the merged dataset, each day's federal rate correctly aligns with the corresponding monthly value."
   ]
  },
  {
   "cell_type": "markdown",
   "id": "b957e35a-d19f-4eb2-a963-b3e313ad1729",
   "metadata": {},
   "source": [
    "After incorporating the federal rate data, the feature generation is completed. \n",
    "\n",
    "**We now have 110 columns in the main dataset:**\n",
    "\n",
    "- **Original OHLCV data:** `open`, `high`, `low`, `close`, `volume`\n",
    "\n",
    "- **Return and target:** `return`, `target`\n",
    "\n",
    "- **Trigonometric weekday features:** `dsin`, `dcos`\n",
    "\n",
    "- **Volume features:** `volume_adi`, `volume_obv`, `volume_cmf`, `volume_fi`, `volume_em`, `volume_sma_em`, `volume_vpt`, `volume_vwap`, `volume_mfi`, `volume_nvi`\n",
    "\n",
    "- **Volatility features:** `volatility_bbm`, `volatility_bbh`, `volatility_bbl`, `volatility_bbw`, `volatility_bbp`, `volatility_bbhi`, `volatility_bbli`, `volatility_kcc`, `volatility_kch`, `volatility_kcl`, `volatility_kcw`, `volatility_kcp`, `volatility_kchi`, `volatility_kcli`, `volatility_dcl`, `volatility_dch`, `volatility_dcm`, `volatility_dcw`, `volatility_dcp`, `volatility_atr`, `volatility_ui`\n",
    "\n",
    "- **Trend features:** `trend_macd`, `trend_macd_signal`, `trend_macd_diff`, `trend_vortex_ind_pos`, `trend_vortex_ind_neg`, `trend_vortex_ind_diff`, `trend_trix`, `trend_mass_index`, `trend_dpo`, `trend_kst`, `trend_kst_sig`, `trend_kst_diff`, `trend_stc`, `trend_adx`, `trend_adx_pos`, `trend_adx_neg`, `trend_cci`, `trend_aroon_up`, `trend_aroon_down`, `trend_aroon_ind`, `trend_psar_up_indicator`, `trend_psar_down_indicator`, `psar_trend`\n",
    "\n",
    "- **Transformed trend features (drift removed):** `trend_sma_fast_div_close`, `trend_sma_slow_div_close`, `trend_ema_fast_div_close`, `trend_ema_slow_div_close`, `trend_ichimoku_conv_div_close`, `trend_ichimoku_base_div_close`, `trend_ichimoku_a_div_close`, `trend_ichimoku_b_div_close`, `trend_visual_ichimoku_a_div_close`, `trend_visual_ichimoku_b_div_close`\n",
    "\n",
    "- **Momentum features:** `momentum_rsi`, `momentum_stoch_rsi`, `momentum_stoch_rsi_k`, `momentum_stoch_rsi_d`, `momentum_tsi`, `momentum_uo`, `momentum_stoch`, `momentum_stoch_signal`, `momentum_wr`, `momentum_ao`, `momentum_roc`, `momentum_ppo`, `momentum_ppo_signal`, `momentum_ppo_hist`, `momentum_pvo`, `momentum_pvo_signal`, `momentum_pvo_hist`, `momentum_kama`\n",
    "\n",
    "- **Other return related features:** `others_dlr`, `others_cr`,\n",
    "\n",
    "- **Daily variance features:** `h-l`, `o-c`\n",
    "\n",
    "- **News sentiment features:** `news_sentiment_score`, `news_emotion_intensity`\n",
    "\n",
    "- **QQQ related features:** `qqq_volume`, `qqq_adobe_corr_20`, `qqq_sma_10_div_close`, `qqq_ema_10_div_close`, `qqq_atr`, `qqq_bbands_l`, `qqq_bbands_m`, `qqq_bbands_u`, `qqq_rsi`, `qqq_macd`, `qqq_h-l`, `qqq_o-c`,\n",
    "\n",
    "- **Federal fund rate** `FEDFUNDS`\n",
    "\n",
    "All columns contain numeric values, either as floats or integers."
   ]
  },
  {
   "cell_type": "markdown",
   "id": "62290b13-3fca-4c28-b9c2-e30ddbbec8b7",
   "metadata": {},
   "source": [
    "[**Back to Content**](#content)"
   ]
  },
  {
   "cell_type": "markdown",
   "id": "ab9d9bb6-0257-4b8a-81c1-566d398912f1",
   "metadata": {},
   "source": [
    "<a id='3'></a>\n",
    "# 3. Exploratory Data Analysis (EDA)"
   ]
  },
  {
   "cell_type": "markdown",
   "id": "4da8c45f-bb76-4967-8302-786b5ae7b0f9",
   "metadata": {},
   "source": [
    "<a id='3.1'></a>\n",
    "## 3.1 Structural evaluation"
   ]
  },
  {
   "cell_type": "markdown",
   "id": "c7f8a7aa-4525-444c-bad9-0065d565da2d",
   "metadata": {},
   "source": [
    "<a id='3.1.1'></a>\n",
    "### 3.1.1 Handle the missing values"
   ]
  },
  {
   "cell_type": "markdown",
   "id": "0564b0d9-da94-4afc-992a-7cfe86752d41",
   "metadata": {},
   "source": [
    "All data were initially sourced without any missing values. However, during feature generation, $NaN$ values were introduced due to the nature of certain calculation formulas. These missing values typically occur in the initial rows of the dataset, where some formulas couldn’t compute feature values.\n",
    "\n",
    "To maintain data integrity, we removed all rows containing $NaN$ values. **Prior to this cleanup, the dataset comprised 1381 rows; after removal, it contains 1310 rows.** As a result, the dataset now begins on April 15, 2020."
   ]
  },
  {
   "cell_type": "markdown",
   "id": "b2a7ea29-27a5-4d02-865b-80280d6cf8a6",
   "metadata": {},
   "source": [
    "<a id='3.1.2'></a>\n",
    "### 3.1.2 Create the feature X and the target y"
   ]
  },
  {
   "cell_type": "markdown",
   "id": "2401ddf2-35a8-453d-a19a-b1b9c4232b91",
   "metadata": {},
   "source": [
    "To prepare for exploratory data analysis and future deep learning model training, we begin by constructing the feature dataset `X` and target dataset `y`.\n",
    "\n",
    "- `X` contains all columns from the main dataset, excluding the non-stationary pricing fields (`open`, `high`, `low`, `close`) and the `target` variable. It includes 105 columns in total.\n",
    "\n",
    "- `y` corresponds to the `target` column and represents the prediction objective.\n",
    "\n",
    "- Both `X` and `y` consist of 1,310 rows.\n",
    "\n",
    "Since `X` encompasses all engineered features, it will be the primary focus in the upcoming exploratory analysis."
   ]
  },
  {
   "cell_type": "markdown",
   "id": "e0bc352a-f5e4-4e3a-bca7-8114ea748cbe",
   "metadata": {},
   "source": [
    "[**Back to Content**](#content)"
   ]
  },
  {
   "cell_type": "markdown",
   "id": "cd28244c-7269-4498-911e-af90643c1da4",
   "metadata": {},
   "source": [
    "<a id='3.1.3'></a>\n",
    "### 3.1.3 Explore feature distribution and analyze outliers"
   ]
  },
  {
   "cell_type": "markdown",
   "id": "90fb0e05-a9cc-4591-a0e0-ccf27c5b9c0a",
   "metadata": {},
   "source": [
    "<a id='3.1.3.1'></a>\n",
    "#### 3.1.3.1 Visualize the features\n",
    "This section focuses on analyzing feature distributions to help with suitable scaler selection.\n",
    "\n",
    "I’ll begin by visualizing each feature in `X` using histograms and KDE plots to guide the categorization and scaling strategy:\n",
    "\n",
    "<center>\n",
    "  <img src=\"report_image/3_feature_visualization1.png\" alt=\"3_feature_visualization1\">\n",
    "</center>\n",
    "<center>\n",
    "  <img src=\"report_image/3_feature_visualization2.png\" alt=\"3_feature_visualization2\">\n",
    "</center>"
   ]
  },
  {
   "cell_type": "markdown",
   "id": "59e81e5f-973b-4abd-9037-908249ad44e2",
   "metadata": {},
   "source": [
    "[**Back to Content**](#content)"
   ]
  },
  {
   "cell_type": "markdown",
   "id": "d810a439-a50d-4969-993c-4b513bdf5854",
   "metadata": {},
   "source": [
    "<a id='3.1.3.2'></a>\n",
    "#### 3.1.3.2 Group the features\n",
    "With the visualization of the 105 features, I will group them to 3 categories. Each of the group is paired with an appropriate scaling method to ensure consistent preprocessing:\n",
    "- **Bounded distribution**: Indicators constrained to a fixed range, showing skewed, bimodal, or other patterns. Scaled using **MinMaxScaler**.\n",
    "\n",
    "- **Normal distribution**: Features with symmetric spread and bell-shaped histograms. Best suited for **StandardScaler**.\n",
    "\n",
    "- **Skewed / long-Tailed / clustered distribution**: Features with heavy skew, long tails, or clustered spikes. These are sensitive to outliers and scaled using **RobustScaler**.\n",
    "\n",
    "After learning the features and observing their distributions, I can reach some initial grouping decisions:\n",
    "1. Based on the definition and with reference to the plots, I identified clear candidates for bounded distribution.   \n",
    "**Bounded distribution:**  \n",
    "`dsin`, `dcos`, `trend_stc`, `trend_adx`, `trend_adx_pos`, `trend_adx_neg`, `trend_aroon_up`, `trend_aroon_down`,\n",
    "`trend_aroon_ind`, `trend_psar_up_indicator`, `trend_psar_down_indicator`, `momentum_rsi`, `momentum_stoch_rsi`,\n",
    "`momentum_stoch_rsi_k`, `momentum_stoch_rsi_d`, `momentum_tsi`,  `momentum_uo`,  `momentum_stoch`,\n",
    "`momentum_stoch_signal`, `momentum_wr`, `psar_trend`,\n",
    "`news_sentiment_score`, `news_emotion_intensity`, `qqq_rsi`, `FEDFUNDS`\n",
    "\n",
    "2. From the plots, features with obvious skew, long-tails, or clusters can be spotted as well.  \n",
    "**Skewed / long-Tailed / clustered distribution:**  \n",
    "`volume`, `volume_adi`, `volume_obv`, `volume_cmf`,  `volume_sma_em`, `volume_vpt`,\n",
    "`volume_vwap`, `volume_mfi`, `volume_nvi`, `volatility_bbm`, `volatility_bbh`, `volatility_bbl`,\n",
    "`volatility_bbw`, `volatility_bbp`, `volatility_bbhi`, `volatility_bbli`, `volatility_kcc`, `volatility_kch`,\n",
    "`volatility_kcl`, `volatility_kcw`,  `volatility_kchi`, `volatility_kcli`, `volatility_dcl`,\n",
    "`volatility_dch`, `volatility_dcm`, `volatility_dcw`, `volatility_dcp`, `volatility_atr`, `volatility_ui`,\n",
    "`trend_vortex_ind_pos`, `trend_vortex_ind_neg`, `trend_vortex_ind_diff`,  `trend_mass_index`, `trend_cci`,\n",
    "`trend_ichimoku_conv_div_close`, `trend_ichimoku_base_div_close`, `trend_ichimoku_a_div_close`,\n",
    "`trend_ichimoku_b_div_close`, `trend_visual_ichimoku_a_div_close`, `trend_visual_ichimoku_b_div_close`,\n",
    "`momentum_ppo`, `momentum_ppo_signal`, `momentum_pvo`, `momentum_pvo_signal`,\n",
    "`momentum_kama`, `others_cr`, `h-l`, `qqq_volume`, `qqq_adobe_corr_20`, `qqq_atr`, `qqq_bbands_l`,\n",
    "`qqq_bbands_m`, `qqq_bbands_u`, `qqq_macd`, `qqq_h-l`\n",
    "\n",
    "3. Outlier analysis will be used to finalize the categorization for the rest. These features appear approximately normal, but it is unclear whether their potential outliers may cause them to behave like long-tailed distributions.  \n",
    "**Features to be examed with outlier analysis:**    \n",
    "`return`, `volume_fi`, `volume_em`, `volatility_kcp`, `trend_macd`, `trend_macd_signal`, `trend_macd_diff`, `trend_trix`, \n",
    "`trend_dpo`, `trend_kst`,\n",
    "`trend_kst_sig`, `trend_kst_diff`, `trend_sma_fast_div_close`, `trend_sma_slow_div_close`,\n",
    "`trend_ema_fast_div_close`, `trend_ema_slow_div_close`, `momentum_ao`, `momentum_roc`, `momentum_ppo_hist`,\n",
    "`momentum_pvo_hist`, `others_dlr`, `o-c`, `qqq_sma_10_div_close`, `qqq_ema_10_div_close`, `qqq_o-c`"
   ]
  },
  {
   "cell_type": "markdown",
   "id": "c4b5784f-3400-451c-8494-4d16268f30a6",
   "metadata": {},
   "source": [
    "**Outlier analysis:**\n",
    "\n",
    "For the 25 features that need outlier analysis, I will apply two complementary metrics: the skewness coefficient and the Interquartile Range (IQR).\n",
    "\n",
    "- **Skewness coefficient**  \n",
    "    It quantifies the asymmetry of the distribution:\n",
    "    - $0$ : perfectly symmetric distribution\n",
    "   \n",
    "    - Positive : right-skewed\n",
    "    \n",
    "    - Negative : left-skewed\n",
    "\n",
    "    Intepretation:\n",
    "    - $|\\text{Skewness}| < 0.5$ : fairly symmetric, typically fine for StandardScaler\n",
    "    \n",
    "    - $0.5 ≤ |\\text{Skewness}| ≤ 1$ : moderately skewed\n",
    "   \n",
    "    - $|\\text{Skewness}| > 1$ : heavily skewed, often requiring RobustScaler or transformations to reduce skew if needed\n",
    "\n",
    "- **Interquartile Range (IQR)**    \n",
    "    This method identifies statistical outliers by examining how far values deviate from the middle 50% of the data—offering a robust and non-parametric approach that doesn’t assume normality:\n",
    "    - $IQR$ is the gap between the values of the 75th percentile (Q3) and the 25th percentile (Q1).\n",
    "   \n",
    "    - Values falling outside the range $[Q1 − 1.5 × IQR, Q3 + 1.5 × IQR]$ are considered outliers.\n",
    "    \n",
    "    - If outliers account for less than 5% of the data, we consider the feature suitable for normal distribution treatment.\n",
    "\n",
    "- **Deicision logic**  \n",
    "    A feature will be categorized as normally distributed if both conditions are met:\n",
    "    - $|\\text{Skewness}| < 0.5$\n",
    "   \n",
    "    - $\\text{Outlier ratio} < 5\\%$\n",
    "\n",
    "    Otherwise, it will be classified as skewed / long-tailed and scaled accordingly.\n",
    "\n",
    "We will use this decision to update the above feature lists. Meanwhile, to support this process, for the 25 features in the outlier analysis, we generate:\n",
    "- Histogram + KDE plots for shape and modality  \n",
    "\n",
    "- Box plots to visualize outliers and IQR  \n",
    "\n",
    "- Q-Q plots to assess normality alignment  \n",
    "\n",
    "- A summary table with skewness, outlier ratio, and categorization"
   ]
  },
  {
   "cell_type": "markdown",
   "id": "4a6c2d5f-d909-4cc5-aa24-f74511c150ba",
   "metadata": {},
   "source": [
    "Below are the histogram, KDE plots, box plots and Q-Q plots of the features.\n",
    "<center>\n",
    "  <img src=\"report_image/4_outlier_analysis1.png\" alt=\"4_outlier_analysis1\">\n",
    "</center>\n",
    "<center>\n",
    "  <img src=\"report_image/4_outlier_analysis2.png\" alt=\"4_outlier_analysis2\">\n",
    "</center>\n",
    "<center>\n",
    "  <img src=\"report_image/4_outlier_analysis3.png\" alt=\"4_outlier_analysis3\">\n",
    "</center>\n",
    "<center>\n",
    "  <img src=\"report_image/4_outlier_analysis4.png\" alt=\"4_outlier_analysis4\">\n",
    "</center>\n",
    "<center>\n",
    "  <img src=\"report_image/4_outlier_analysis5.png\" alt=\"4_outlier_analysis5\">\n",
    "</center>"
   ]
  },
  {
   "cell_type": "markdown",
   "id": "b82726e6-898b-45e0-bdd0-40e7282d477c",
   "metadata": {},
   "source": [
    "Below is the summary table of this outlier analysis with skewness, outlier ratio, and categorization for the features.\n",
    "| Feature                   | Skewness | Outlier % | Distribution        |\n",
    "|---------------------------|----------|-----------|---------------------|\n",
    "| return                    | -0.821   | 4.120     | Skewed/Long-tailed  |\n",
    "| volume_fi                 | -3.316   | 10.760    | Skewed/Long-tailed  |\n",
    "| volume_em                 | -0.897   | 5.730     | Skewed/Long-tailed  |\n",
    "| volatility_kcp            | -0.441   | 2.060     | Normal              |\n",
    "| trend_macd                | -0.233   | 0.310     | Normal              |\n",
    "| trend_macd_signal         | -0.222   | 0.080     | Normal              |\n",
    "| trend_macd_diff           | -0.270   | 0.990     | Normal              |\n",
    "| trend_trix                | -0.281   | 1.150     | Normal              |\n",
    "| trend_dpo                 | 0.393    | 2.370     | Normal              |\n",
    "| trend_kst                 | -0.057   | 1.910     | Normal              |\n",
    "| trend_kst_sig             | -0.050   | 1.760     | Normal              |\n",
    "| trend_kst_diff            | 0.140    | 0.310     | Normal              |\n",
    "| trend_sma_fast_div_close  | 0.976    | 3.590     | Skewed/Long-tailed  |\n",
    "| trend_sma_slow_div_close  | 0.779    | 1.070     | Skewed/Long-tailed  |\n",
    "| trend_ema_fast_div_close  | 0.958    | 2.900     | Skewed/Long-tailed  |\n",
    "| trend_ema_slow_div_close  | 0.852    | 1.530     | Skewed/Long-tailed  |\n",
    "| momentum_ao               | -0.280   | 0.920     | Normal              |\n",
    "| momentum_roc              | -0.141   | 1.530     | Normal              |\n",
    "| momentum_ppo_hist         | -0.115   | 1.220     | Normal              |\n",
    "| momentum_pvo_hist         | 1.106    | 3.510     | Skewed/Long-tailed  |\n",
    "| others_dlr                | -1.141   | 4.050     | Skewed/Long-tailed  |\n",
    "| o-c                       | 0.240    | 1.910     | Normal              |\n",
    "| qqq_sma_10_div_close      | 0.764    | 2.140     | Skewed/Long-tailed  |\n",
    "| qqq_ema_10_div_close      | 0.827    | 2.520     | Skewed/Long-tailed  |\n",
    "| qqq_o-c                   | -0.720   | 3.360     | Skewed/Long-tailed  |\n"
   ]
  },
  {
   "cell_type": "markdown",
   "id": "ca1b040d-602c-40b5-92bd-0e3d299919a6",
   "metadata": {},
   "source": [
    "Based on this outlier analysis, we now have finalized categorization for all the 105 features:\n",
    "\n",
    "**Bounded distribution:**  \n",
    "`dsin`, `dcos`, `trend_stc`, `trend_adx`, `trend_adx_pos`, `trend_adx_neg`, `trend_aroon_up`, `trend_aroon_down`,\n",
    "`trend_aroon_ind`, `trend_psar_up_indicator`, `trend_psar_down_indicator`, `momentum_rsi`, `momentum_stoch_rsi`,\n",
    "`momentum_stoch_rsi_k`, `momentum_stoch_rsi_d`, `momentum_tsi`,  `momentum_uo`,  `momentum_stoch`,\n",
    "`momentum_stoch_signal`, `momentum_wr`, `psar_trend`,\n",
    "`news_sentiment_score`, `news_emotion_intensity`, `qqq_rsi`, `FEDFUNDS`\n",
    "\n",
    "**Skewed / long-Tailed / clustered distribution:**  \n",
    "`volume`, `volume_adi`, `volume_obv`, `volume_cmf`,  `volume_sma_em`, `volume_vpt`,\n",
    "`volume_vwap`, `volume_mfi`, `volume_nvi`, `volatility_bbm`, `volatility_bbh`, `volatility_bbl`,\n",
    "`volatility_bbw`, `volatility_bbp`, `volatility_bbhi`, `volatility_bbli`, `volatility_kcc`, `volatility_kch`,\n",
    "`volatility_kcl`, `volatility_kcw`,  `volatility_kchi`, `volatility_kcli`, `volatility_dcl`,\n",
    "`volatility_dch`, `volatility_dcm`, `volatility_dcw`, `volatility_dcp`, `volatility_atr`, `volatility_ui`,\n",
    "`trend_vortex_ind_pos`, `trend_vortex_ind_neg`, `trend_vortex_ind_diff`,  `trend_mass_index`, `trend_cci`,\n",
    "`trend_ichimoku_conv_div_close`, `trend_ichimoku_base_div_close`, `trend_ichimoku_a_div_close`,\n",
    "`trend_ichimoku_b_div_close`, `trend_visual_ichimoku_a_div_close`, `trend_visual_ichimoku_b_div_close`,\n",
    "`momentum_ppo`, `momentum_ppo_signal`, `momentum_pvo`, `momentum_pvo_signal`, `momentum_kama`, `others_cr`, `h-l`, `qqq_volume`, `qqq_adobe_corr_20`, `qqq_atr`, `qqq_bbands_l`, `qqq_bbands_m`, `qqq_bbands_u`, `qqq_macd`, `qqq_h-l`, `return`, `volume_fi`, `volume_em`, `trend_sma_fast_div_close`, `trend_sma_slow_div_close`, `trend_ema_fast_div_close`, `trend_ema_slow_div_close`, `momentum_pvo_hist`, `others_dlr`, `qqq_sma_10_div_close`, `qqq_ema_10_div_close`, `qqq_o-c`\n",
    "\n",
    "**Normal distribution:**    \n",
    "`volatility_kcp`, `trend_macd`, `trend_macd_signal`, `trend_macd_diff`, `trend_trix`, `trend_dpo`, `trend_kst`, `trend_kst_sig`, `trend_kst_diff`,  `momentum_ao`, `momentum_roc`, `momentum_ppo_hist`, `o-c` "
   ]
  },
  {
   "cell_type": "markdown",
   "id": "829b5b4e-f7bf-4263-a6a6-c239cf89d8a7",
   "metadata": {},
   "source": [
    "[**Back to Content**](#content)"
   ]
  },
  {
   "cell_type": "markdown",
   "id": "e9aae544-3893-4f35-9142-a05c8f41e39d",
   "metadata": {},
   "source": [
    "<a id='3.1.3.3'></a>\n",
    "#### 3.1.3.3 Scale the features\n",
    "We’ve completed the structural evaluation of all features by analyzing their distributions and categorizing them into three groups based on scaling suitability.  \n",
    "\n",
    "To close this section, we will scale the features according to the defined categories to ensure consistency in future observation, analysis and model training.\n",
    "\n",
    "- Features with normal distribution will be scaled with StandardScaler.\n",
    "\n",
    "- Features with bounded distribution will be scaled with MinMaxScaler.\n",
    "\n",
    "- Features with skewed / long-Tailed / clustered distribution will be scaled with RobustScaler.\n",
    "\n",
    "The scaled features are stored in a new dataset `X_scaled`. It has the same structure (105 columns and 1310 rows) as `X`, except all its values are properly scaled."
   ]
  },
  {
   "cell_type": "markdown",
   "id": "f782a454-fbe5-4a79-a2bf-ef3350f5fefb",
   "metadata": {},
   "source": [
    "[**Back to Content**](#content)"
   ]
  },
  {
   "cell_type": "markdown",
   "id": "c2129ba1-763c-44fa-9ac1-f1ae42dd1b3d",
   "metadata": {},
   "source": [
    "<a id='3.2'></a>\n",
    "## 3.2 SHAP analysis and feature relationship exploration\n",
    "The goal of this section is to uncover relationships among features, providing insights into potential multicollinearity and dependencies. Given the large number of features (105), it is impractical to study the bilateral relationships for every possible pair.\n",
    "\n",
    "To address this efficiently, I will first apply SHAP analysis to identify the 10 most impactful features for the prediction task. These top features will then be explored with pairwise scatter plots. The least relevant features will also be detected and then removed in this process."
   ]
  },
  {
   "cell_type": "markdown",
   "id": "26f3f881-4ba4-47cb-baef-e1d1f43884ff",
   "metadata": {},
   "source": [
    "<a id='3.2.1'></a>\n",
    "### 3.2.1 SHAP analysis"
   ]
  },
  {
   "cell_type": "markdown",
   "id": "00015555-bc12-4c16-b211-094f6097f197",
   "metadata": {},
   "source": [
    "SHAP analysis is a powerful method for interpreting machine learning models by quantifying the impact of each feature on a prediction. In this study, we apply SHAP to an XGBoost classifier, evaluating the influence of features in `X_scaled` on the target variable `y`.\n",
    "\n",
    "XGBoost demonstrated strong performance during the evaluation of my Exam 3 project, which justifies its selection as the model for SHAP-based interpretability in this analysis."
   ]
  },
  {
   "cell_type": "markdown",
   "id": "dd0d05f4-cfba-46ea-a6fb-2fcb8eaa2bcc",
   "metadata": {},
   "source": [
    "Below is the visualization of the 20 most influential features from the SHAP analysis.\n",
    "<center>\n",
    "  <img src=\"report_image/5_SHAP.png\" alt=\"5_SHAP\" width = 650>\n",
    "</center>"
   ]
  },
  {
   "cell_type": "markdown",
   "id": "2a01afb6-d133-4082-86ea-8c2ba13f8173",
   "metadata": {},
   "source": [
    "The SHAP summary plot above ranks the top 20 features by their impact on the XGBoost classifier’s predictions, sorted from highest to lowest importance.\n",
    "\n",
    "Each dot corresponds to a single day's observation. Its horizontal position reflects the feature’s influence on the model output—pushing the prediction toward 1 (right) or toward 0 (left). For example:\n",
    "- A red dot for `return` positioned on the left suggests that a higher daily return reduces the likelihood of predicting class 0.\n",
    "\n",
    "- A blue dot for `o-c` located on the right indicates that a lower open-close price difference increases the probability of class 1."
   ]
  },
  {
   "cell_type": "markdown",
   "id": "6fef827b-dcda-47c9-836f-411777e544c4",
   "metadata": {},
   "source": [
    "Then, we calculate the mean absolute SHAP values as the indicator for the importance of the features. \n",
    "\n",
    "Usually, a mean abusolute SHAP value above $0.1$ typically indicates a feature with strong predictive impact. Among our 105 features, 41 have their values meet this standard.\n",
    "\n",
    "On the contrary, features with mean abusolute SHAP values below $0.01$ tend to contribute negligibly to the model and may represent statistical noise or redundancy. And in our case, 11 features fall below this threshold.\n",
    "\n",
    "The result indicates good feature construction: **approximately 40% of features exhibit strong influence, contributing meaningfully to model decisions, while only 10% show minimal impact, suggesting limited predictive value.**"
   ]
  },
  {
   "cell_type": "markdown",
   "id": "8fa249a4-3ff0-449f-8c26-f21775ca34b6",
   "metadata": {},
   "source": [
    "Next, we will:\n",
    "- Extract the top 10 most impactful features for deeper relationship analysis.\n",
    "- Remove the 11 features with mean absolute SHAP values below 0.01, as they contribute minimally to model performance.\n",
    "\n",
    "Below are the top 10 features and their mean absolute SHAP values. We will explore their relationships in the next section.\n",
    "| Feature                | Mean Abs SHAP |\n",
    "|------------------------|---------------|\n",
    "| return                 | 0.458         |\n",
    "| o-c                    | 0.280         |\n",
    "| volume_adi             | 0.248         |\n",
    "| qqq_h-l                | 0.244         |\n",
    "| trend_vortex_ind_diff  | 0.240         |\n",
    "| trend_dpo              | 0.233         |\n",
    "| volatility_atr         | 0.220         |\n",
    "| h-l                    | 0.209         |\n",
    "| volume_cmf             | 0.194         |\n",
    "| trend_vortex_ind_pos   | 0.185         |\n",
    "\n",
    "\n",
    "Below are the 11 featuers whose mean absolute SHAP values are under $0.01$. They will be removed from the feature dataset `X_scaled`.\n",
    "| Feature                      | Mean Abs SHAP |\n",
    "|-----------------------------|---------------|\n",
    "| volatility_dcl              | 0.008         |\n",
    "| volatility_bbhi             | 0.000         |\n",
    "| others_dlr                  | 0.000         |\n",
    "| volatility_dcm              | 0.000         |\n",
    "| volatility_kchi             | 0.000         |\n",
    "| volatility_kcli             | 0.000         |\n",
    "| trend_psar_down_indicator   | 0.000         |\n",
    "| volatility_bbli             | 0.000         |\n",
    "| psar_trend                  | 0.000         |\n",
    "| trend_psar_up_indicator     | 0.000         |\n",
    "| momentum_wr                 | 0.000         |\n",
    "\n",
    "After the removal, **we now have 94 features in `X_scaled`**."
   ]
  },
  {
   "cell_type": "markdown",
   "id": "9b293ee1-67db-467d-934d-5542d847e8c8",
   "metadata": {},
   "source": [
    "[**Back to Content**](#content)"
   ]
  },
  {
   "cell_type": "markdown",
   "id": "8261de73-d154-4611-a70c-aa296bdb521e",
   "metadata": {},
   "source": [
    "<a id='3.2.2'></a>\n",
    "### 3.2.2 Explore relationships among high-impact features\n",
    "\n",
    "To uncover potential dependencies and interaction patterns, I use multi-scatter plots (pairplots) on the top 10 most impactful features identified via SHAP analysis.\n",
    "\n",
    "<center>\n",
    "  <img src=\"report_image/6_scatter_plot.png\" alt=\"6_scatter_plot\">\n",
    "</center>"
   ]
  },
  {
   "cell_type": "markdown",
   "id": "c5e32344-887e-4886-ba64-33d198a50bb0",
   "metadata": {},
   "source": [
    "As illustrated in the visualizations:\n",
    "\n",
    "- Many plots show feature values clustered along vertical lines, suggesting weak correlation between those pairs.\n",
    "\n",
    "- `trend_vortex_ind_diff` and `trend_vortex_ind_pos` exhibit a **strong positive correlation**, forming a pronounced diagonal across their scatter plot.\n",
    "\n",
    "- **Moderate positive correlations** are observed between:\n",
    "  - `trend_vortex_ind_pos` and `volume_cmf`\n",
    "  \n",
    "  - `trend_vortex_ind_diff` and `volume_cmf`\n",
    "  \n",
    "  - `h-l` and `volatility_atr`\n",
    "\n",
    "- **Moderate negative correlations** appear between:\n",
    "  - `o-c` and `return`\n",
    "\n",
    "  - `trend_vortex_ind_diff` and `trend_dpo`\n",
    "\n",
    "- Most feature comparisons involving `volume_adi` produce **two distinct clusters**, indicating potential segmentation or bifurcation in behavior.\n",
    "\n",
    "- The relationship between `o-c` and `h-l` is context-dependent:\n",
    "  - When `o-c` is negative, the correlation is negative\n",
    "\n",
    "  - When `o-c` is positive, the correlation appears positive  \n",
    "\n",
    "\n",
    "These insights help pinpoint underlying dependencies and potential non-linear interactions within the most impactful features. I will document these findings for reference but hold off on taking any immediate action. These observations will be revisited during the multicollinearity analysis phase to inform further feature removal.\n"
   ]
  },
  {
   "cell_type": "markdown",
   "id": "080ecefd-45b2-4c24-9770-06d931675fa4",
   "metadata": {},
   "source": [
    "[**Back to Content**](#content)"
   ]
  },
  {
   "cell_type": "markdown",
   "id": "529a2da1-d2d9-4d02-a0b2-f42fb2638684",
   "metadata": {},
   "source": [
    "<a id='3.3'></a>\n",
    "## 3.3 Analyze multi-collinearity and reduce dimensionality"
   ]
  },
  {
   "cell_type": "markdown",
   "id": "fad072e3-90e7-48c4-8557-438eba350dad",
   "metadata": {},
   "source": [
    "<a id='3.3.1'></a>\n",
    "### 3.3.1 VIF analysis and correlation heatmap"
   ]
  },
  {
   "cell_type": "markdown",
   "id": "014ce812-d813-49c7-ab58-606dda7ec387",
   "metadata": {},
   "source": [
    "Multicollinearity occurs when two or more independent variables are highly correlated with one\n",
    "another in a regression model, and it can be detected using Variable Inflation Factors (VIF).   \n",
    "\n",
    "VIF score of an independent variable represents how well the variable is explained by other independent\n",
    "variables, and it is calculated by the following formula:\n",
    "$$ VIF = \\frac{1}{1 − R^2} $$\n",
    "\n",
    "$R^2$ value is determined to find out how well an independent variable is described by the other\n",
    "independent variables. A high value of $R^2$ means that the variable is highly correlated with the\n",
    "other variables. \n",
    "\n",
    "VIF starts at $1$ (no correlation) and has no upper limit. In this case, we will remove highly correlated features and target to keep the remaining ones with VIF below $10$."
   ]
  },
  {
   "cell_type": "markdown",
   "id": "61aca466-45f4-4882-80b4-24398ba4cdd3",
   "metadata": {},
   "source": [
    "Compute VIF of the current 94 scaled features and check the 50 features with highest VIF scores below:\n",
    "\n",
    "| Features                           | VIF Score  |\n",
    "|------------------------------------|------------|\n",
    "| trend_aroon_down                   | inf        |\n",
    "| volatility_kch                     | inf        |\n",
    "| trend_ichimoku_base_div_close      | inf        |\n",
    "| trend_ichimoku_conv_div_close      | inf        |\n",
    "| trend_macd                         | inf        |\n",
    "| momentum_ppo_signal                | inf        |\n",
    "| trend_macd_diff                    | inf        |\n",
    "| trend_vortex_ind_pos               | inf        |\n",
    "| trend_vortex_ind_neg               | inf        |\n",
    "| trend_vortex_ind_diff              | inf        |\n",
    "| trend_kst                          | inf        |\n",
    "| trend_kst_sig                      | inf        |\n",
    "| trend_kst_diff                     | inf        |\n",
    "| trend_aroon_up                     | inf        |\n",
    "| momentum_pvo_hist                  | inf        |\n",
    "| trend_aroon_ind                    | inf        |\n",
    "| momentum_pvo_signal                | inf        |\n",
    "| momentum_pvo                       | inf        |\n",
    "| momentum_ppo_hist                  | inf        |\n",
    "| volatility_kcl                     | inf        |\n",
    "| trend_macd_signal                  | inf        |\n",
    "| volatility_kcc                     | inf        |\n",
    "| volatility_bbl                     | inf        |\n",
    "| qqq_bbands_u                       | inf        |\n",
    "| qqq_bbands_m                       | inf        |\n",
    "| qqq_bbands_l                       | inf        |\n",
    "| trend_ichimoku_a_div_close         | inf        |\n",
    "| volatility_bbm                     | inf        |\n",
    "| volatility_bbh                     | inf        |\n",
    "| momentum_ppo                       | inf        |\n",
    "| trend_trix                         | 9482.907   |\n",
    "| trend_ema_slow_div_close           | 8646.385   |\n",
    "| others_cr                          | 5781.741   |\n",
    "| trend_ema_fast_div_close           | 3332.137   |\n",
    "| volume_vwap                        | 2998.145   |\n",
    "| volatility_dch                     | 1427.714   |\n",
    "| trend_sma_slow_div_close           | 960.215    |\n",
    "| trend_sma_fast_div_close           | 740.427    |\n",
    "| momentum_kama                      | 615.726    |\n",
    "| momentum_ao                        | 298.481    |\n",
    "| momentum_rsi                       | 221.841    |\n",
    "| volatility_bbp                     | 216.140    |\n",
    "| trend_visual_ichimoku_a_div_close  | 212.918    |\n",
    "| momentum_tsi                       | 176.274    |\n",
    "| qqq_ema_10_div_close               | 130.436    |\n",
    "| trend_cci                          | 110.998    |\n",
    "| qqq_sma_10_div_close               | 98.291     |\n",
    "| volatility_dcp                     | 93.383     |\n",
    "| volume_vpt                         | 88.051     |\n",
    "| momentum_stoch_rsi_k               | 83.440     |\n"
   ]
  },
  {
   "cell_type": "markdown",
   "id": "439cfa46-7b5e-4a49-9ed6-d2e56b9fbd4b",
   "metadata": {},
   "source": [
    "Use heatmap to demonstrate the correlations.\n",
    "<center>\n",
    "  <img src=\"report_image/7_heatmap1.png\" alt=\"7_heatmap1\">\n",
    "</center>"
   ]
  },
  {
   "cell_type": "markdown",
   "id": "432759a6-6f1e-486f-96fe-898203524fe9",
   "metadata": {},
   "source": [
    "As shown in the table, a substantial portion of the feature set exhibits extremely high VIF scores, ranging from four-digit values to infinity, signaling **deep and complex interdependencies**.\n",
    "\n",
    "This is vividly supported by the dense and vibrant correlation heatmap, which highlights a tightly woven matrix of relationships across features—visual evidence of severe multicollinearity.\n",
    "\n",
    "Next, we will reudce dimensionality to mitigate the high multi-collinearity among the features."
   ]
  },
  {
   "cell_type": "markdown",
   "id": "e4415772-2d99-42bc-abcd-680dee5a9409",
   "metadata": {},
   "source": [
    "[**Back to Content**](#content)"
   ]
  },
  {
   "cell_type": "markdown",
   "id": "161cc1f0-cb88-4959-95e4-f9e7c31bcce6",
   "metadata": {},
   "source": [
    "<a id='3.3.2'></a>\n",
    "### 3.3.2 Reduce dimensionality"
   ]
  },
  {
   "cell_type": "markdown",
   "id": "48ab1d0d-9529-4324-b472-2a6414508c25",
   "metadata": {},
   "source": [
    "To address feature multicollinearity and enhance model robustness, we will try two dimensionality reduction techniques:\n",
    "\n",
    "1. **Cluster-based selection**  \n",
    "   - Apply unsupervised machine learning (e.g., KMeans) to group features based on similarity.\n",
    "\n",
    "   - Within each cluster, retain only the feature with the highest mean absolute SHAP value to represent the group.\n",
    "\n",
    "2. **Correlation-based filtering**  \n",
    "   - Identify highly correlated feature pairs across the dataset.\n",
    "   \n",
    "   - For each pair, remove the feature with the lower mean absolute SHAP value to reduce redundancy.\n",
    "\n",
    "PCA is avoided to preserve interpretability. Additionally, PCA only captures linear dependencies, while our exploratory scatter plots show nonlinear relationships, limiting PCA’s effectiveness in preserving feature structure."
   ]
  },
  {
   "cell_type": "markdown",
   "id": "938f2ec1-4f41-4985-b27f-7c93a32aa824",
   "metadata": {},
   "source": [
    "<a id='3.3.2.1'></a>\n",
    "#### 3.3.2.1 Cluster-based selection"
   ]
  },
  {
   "cell_type": "markdown",
   "id": "384f4242-c1e9-470a-b85b-efa04050fafd",
   "metadata": {},
   "source": [
    "To apply K-Means clustering on the features, we first need to construct a \"feature-of-features\" dataset that captures the characteristics of each feature. \n",
    "\n",
    "Since all features are numeric, we will use the standard `.describe()` method to summarize their statistical properties, effectively reflecting the quantitative nature of each feature.\n",
    "\n",
    "There will 94 rows in this dataset, with each row representing a feature. Below is a preview of it with 5 rows:\n",
    "\n",
    "|                 | count    | mean   | std    | min     | 25%     | 50%   | 75%   | Max    |\n",
    "|-----------------|----------|--------|--------|---------|---------|-------|-------|--------|\n",
    "| **volume**      | 1310.000 | 0.334  | 1.322  | -1.461  | -0.387  | 0.000 | 0.613 | 17.880 |\n",
    "|  **return**     | 1310.000 | -0.028 | 0.985  | -7.339  | -0.484  | 0.000 | 0.516 | 6.260  |\n",
    "|  **dsin**       | 1310.000 | 0.578  | 0.382  | 0.000   | 0.277   | 0.723 | 0.901 | 1.000  |\n",
    "|  **dcos**       | 1310.000 | 0.367  | 0.363  | 0.000   | 0.000   | 0.445 | 0.445 | 1.000  |\n",
    "|  **volume_adi** | 1310.000 | -0.072 | 0.818  | -3.181  | -0.498  | 0.000 | 0.502 | 1.583  |\n"
   ]
  },
  {
   "cell_type": "markdown",
   "id": "0a0f1309-065e-4ad2-b20d-4bea8733bc7c",
   "metadata": {},
   "source": [
    "Next, we’ll apply the Elbow method to identify the optimal number of clusters that align with our objective. Specifically, we’ll group the 94 features into clusters ranging from 2 to 60 and examine how the relative inertia (the measure of within-cluster compactness) declines as the number of clusters increases.\n",
    "<center>\n",
    "  <img src=\"report_image/8_elbow.png\" alt=\"8_elbow\" width = 450>\n",
    "</center>"
   ]
  },
  {
   "cell_type": "markdown",
   "id": "0305264a-ef1a-462f-b015-90411fcd4f48",
   "metadata": {},
   "source": [
    "The Elbow plot shows that relative inertia begins to plateau beyond 20 clusters, indicating that KMeans is approaching its limit in terms of meaningful compression. This suggests minimal gain from further increasing the number of clusters.\n",
    "\n",
    "However, I am concerned that selecting only 20 clusters from 94 may risk discarding many potentially meaningful ones. To balance compression with feature diversity, I choose to retain 30 clusters instead.\n",
    "\n",
    "Therefore, we group the features to 30 clusters and select a feature with the highest mean absolute SHAP value as a representative in each cluster.\n",
    "\n",
    "After having the 30 representative features, let's review their VIF scores if they are kept as one feature set:\n",
    "| Features                         | VIF Score  |\n",
    "|----------------------------------|------------|\n",
    "| momentum_pvo                     | 17808.064  |\n",
    "| momentum_pvo_signal              | 11406.629  |\n",
    "| momentum_pvo_hist                | 4729.073   |\n",
    "| trend_vortex_ind_diff            | 40.739     |\n",
    "| trend_vortex_ind_pos             | 35.398     |\n",
    "| trend_ichimoku_base_div_close    | 13.097     |\n",
    "| momentum_roc                     | 10.804     |\n",
    "| volume_obv                       | 7.978      |\n",
    "| volume_vwap                      | 7.640      |\n",
    "| trend_adx_neg                    | 7.230      |\n",
    "| trend_kst                        | 6.268      |\n",
    "| volume_sma_em                    | 6.024      |\n",
    "| volume_vpt                       | 5.005      |\n",
    "| volume_fi                        | 4.513      |\n",
    "| momentum_stoch_rsi               | 4.509      |\n",
    "| volume_adi                       | 4.097      |\n",
    "| return                           | 4.018      |\n",
    "| o-c                              | 3.601      |\n",
    "| volume                           | 3.524      |\n",
    "| qqq_volume                       | 3.296      |\n",
    "| qqq_sma_10_div_close             | 3.067      |\n",
    "| volatility_atr                   | 3.021      |\n",
    "| qqq_h-l                          | 2.712      |\n",
    "| h-l                              | 2.620      |\n",
    "| qqq_adobe_corr_20                | 2.334      |\n",
    "| qqq_o-c                          | 2.318      |\n",
    "| volume_em                        | 2.180      |\n",
    "| volatility_bbw                   | 2.100      |\n",
    "| trend_dpo                        | 2.074      |\n",
    "| trend_mass_index                 | 1.948      |\n"
   ]
  },
  {
   "cell_type": "markdown",
   "id": "36bd55a6-b3ea-4830-b1d5-45bea20ae470",
   "metadata": {},
   "source": [
    "As shown in the table above, while the cluster-based selection helps reduce multicollinearity by removing some features, it also comes with several limitations:\n",
    "\n",
    "- **Super-high multicollinearity remains:** Some features still exhibit VIF scores in the 5-digit range, which is highly alarming.\n",
    "\n",
    "- **Loss of feature diversity:** Key macroeconomic indicators like `FEDFUNDS`, sentiment-related features, and weekday-based features are excluded during selection. This reduction in feature variety is concerning.\n",
    "\n",
    "- **No clear direction for cluster adjustment:** I won't suggest to adjust the clustering amount as a solution, as increasing clusters may worsen multicollinearity, while decreasing them could further reduce feature diversity.\n",
    "\n",
    "Given these concerns, I’ll pause further action and explore correlation-based feature selection instead."
   ]
  },
  {
   "cell_type": "markdown",
   "id": "369e5608-9db4-4ed8-a701-16b51e02f017",
   "metadata": {},
   "source": [
    "[**Back to Content**](#content)"
   ]
  },
  {
   "cell_type": "markdown",
   "id": "e1e1c806-9908-4dda-95cd-6a8aaf235b93",
   "metadata": {},
   "source": [
    "<a id='3.3.2.2'></a>\n",
    "#### 3.3.2.2 Correlation-based selection"
   ]
  },
  {
   "cell_type": "markdown",
   "id": "85e4a3fd-25b3-40c5-b1f4-d8849b81a2af",
   "metadata": {},
   "source": [
    "This approach is more straightforward: identify pairs of highly correlated features from the correlation matrix, then remove the one with the lower mean absolute SHAP value in each pair. This strategy balances redundancy reduction with preservation of predictive impact.\n",
    "\n",
    "Frist, we set threshold at $0.85$, and filter out the pair of features with correlation score higher than it. \n",
    "\n",
    "As an result, there are 201 feature pairs with correlation coefficients exceeding $0.85$, indicating a dense web of interrelationships. This high degree of multicollinearity suggests that removing even a single feature from a pair may lead to a notable reduction in VIF scores across multiple features.\n",
    "\n",
    "Then, we examine each highly correlated pair and select the feature with the lower mean absolute SHAP value as a candidate for removal. And based on this process, 49 features are suggested to remove, so we will have 45 features left.\n",
    "\n",
    "Now, we reassess the feature set of the 45 remaining ones to evaluate whether multicollinearity is sufficiently mitigated, and observe how VIF scores changes.\n",
    "\n",
    "| Features                       | VIF Score |\n",
    "|--------------------------------|-----------|\n",
    "| momentum_uo                    | 41.073    |\n",
    "| volume_vpt                     | 41.071    |\n",
    "| trend_adx_neg                  | 40.871    |\n",
    "| trend_adx_pos                  | 35.283    |\n",
    "| qqq_rsi                        | 34.294    |\n",
    "| FEDFUNDS                       | 34.048    |\n",
    "| volume_vwap                    | 20.591    |\n",
    "| momentum_stoch_rsi             | 18.633    |\n",
    "| qqq_bbands_u                   | 16.832    |\n",
    "| volatility_ui                  | 15.668    |\n",
    "| trend_kst                      | 13.643    |\n",
    "| momentum_roc                   | 13.542    |\n",
    "| volume_obv                     | 11.244    |\n",
    "| trend_ichimoku_conv_div_close  | 11.164    |\n",
    "| trend_stc                      | 10.569    |\n",
    "| trend_vortex_ind_diff          | 10.361    |\n",
    "| volatility_atr                 | 10.116    |\n",
    "| volatility_kcw                 | 9.995     |\n",
    "| trend_cci                      | 9.498     |\n",
    "| trend_aroon_up                 | 9.246     |\n",
    "| qqq_macd                       | 8.733     |\n",
    "| trend_kst_diff                 | 8.149     |\n",
    "| trend_adx                      | 7.869     |\n",
    "| qqq_atr                        | 7.281     |\n",
    "| volume_fi                      | 6.624     |\n",
    "| qqq_sma_10_div_close           | 5.396     |\n",
    "| momentum_pvo                   | 5.268     |\n",
    "| volume_adi                     | 4.883     |\n",
    "| volatility_dcw                 | 4.660     |\n",
    "| momentum_pvo_hist              | 4.406     |\n",
    "| return                         | 4.271     |\n",
    "| volume                         | 4.241     |\n",
    "| dsin                           | 3.910     |\n",
    "| o-c                            | 3.894     |\n",
    "| qqq_volume                     | 3.856     |\n",
    "| qqq_h-l                        | 3.483     |\n",
    "| volume_cmf                     | 3.347     |\n",
    "| qqq_adobe_corr_20              | 3.192     |\n",
    "| h-l                            | 2.920     |\n",
    "| trend_mass_index               | 2.715     |\n",
    "| qqq_o-c                        | 2.518     |\n",
    "| dcos                           | 2.342     |\n",
    "| volume_em                      | 2.339     |\n",
    "| trend_dpo                      | 2.207     |\n",
    "| news_emotion_intensity         | 2.141     |\n"
   ]
  },
  {
   "cell_type": "markdown",
   "id": "0e0cd16c-c443-4d98-aab3-fcc8c202deaf",
   "metadata": {},
   "source": [
    "This result is more acceptable than that of the cluster-based selection:\n",
    "\n",
    "- **Multicollinearity is significantly reduced**, the highest VIF score is now around 40. While VIF scores between 10 and 40 still suggest moderate collinearity, they are unlikely to affect the model we will build substantially now, as LSTM neural networks are less sensitive to multicollinearity than linear models.\n",
    "\n",
    "- **Feature diversity is preserved**, including:\n",
    "  - `news_emotion_intensity` for sentiment analysis\n",
    "\n",
    "  - `dcos` for weekday patterns\n",
    "\n",
    "  - `FEDFUNDS` for macroeconomic signals\n",
    "\n",
    "Since the correlation-based filtering performs well, I will retain this refined feature set for modeling."
   ]
  },
  {
   "cell_type": "markdown",
   "id": "6eeb44a5-dfbf-4283-9eee-5841a365fbfd",
   "metadata": {},
   "source": [
    "Check the correlation heatmap of updated features.\n",
    "<center>\n",
    "  <img src=\"report_image/9_heatmap2.png\" alt=\"9_heatmap2\">\n",
    "</center>"
   ]
  },
  {
   "cell_type": "markdown",
   "id": "d9f453eb-ae1b-4f83-96ff-6164fdab3738",
   "metadata": {},
   "source": [
    "The successful reduction of collinearity is also evident in the more desaturated heatmap. \n",
    "\n",
    "This concludes the feature selection process. Below is the final list of 45 features we'll use to move forward with the project:\n",
    "\n",
    "- **Original OHLCV data:** `volume`\n",
    "\n",
    "- **Return:** `return`\n",
    "\n",
    "- **Trigonometric weekday features:** `dsin`, `dcos`\n",
    "\n",
    "- **Volume features:** `volume_adi`, `volume_obv`, `volume_cmf`, `volume_fi`, `volume_em`, `volume_vpt`, `volume_vwap`\n",
    "\n",
    "- **Volatility features:** `volatility_kcw`, `volatility_dcw`, `volatility_atr`, `volatility_ui`\n",
    "\n",
    "- **Trend features:**  `trend_vortex_ind_diff`, `trend_mass_index`, `trend_dpo`, `trend_kst`, `trend_kst_diff`, `trend_stc`, `trend_adx`, `trend_adx_pos`, `trend_adx_neg`, `trend_cci`, `trend_aroon_up`\n",
    "\n",
    "- **Transformed trend features (drift removed):** `trend_ichimoku_conv_div_close`\n",
    "\n",
    "- **Momentum features:** `momentum_stoch_rsi`, `momentum_uo`, `momentum_roc`, `momentum_pvo`, `momentum_pvo_hist`\n",
    "\n",
    "- **Daily variance features:** `h-l`, `o-c`\n",
    "\n",
    "- **News sentiment features:** `news_emotion_intensity`\n",
    "\n",
    "- **QQQ related features:** `qqq_volume`, `qqq_adobe_corr_20`, `qqq_sma_10_div_close`, `qqq_atr`, `qqq_bbands_u`, `qqq_rsi`, `qqq_macd`, `qqq_h-l`, `qqq_o-c`,\n",
    "\n",
    "- **Federal fund rate** `FEDFUNDS`\n",
    "\n",
    "Next, we proceed to model building with our well-prepared feature set."
   ]
  },
  {
   "cell_type": "markdown",
   "id": "8b697c41-b55c-4b6f-9064-56d146f5e3ca",
   "metadata": {},
   "source": [
    "[**Back to Content**](#content)"
   ]
  },
  {
   "cell_type": "markdown",
   "id": "3d59c0da-7be5-43a3-a1f3-d6d8114c2672",
   "metadata": {},
   "source": [
    "<a id='4'></a>\n",
    "# 4. Model Building"
   ]
  },
  {
   "cell_type": "markdown",
   "id": "bc1f60cb-d23c-440a-89b3-aef19768f60c",
   "metadata": {},
   "source": [
    "Model building is the core of this project. In this chapter, we will explore several LSTM architectures and fine-tune them to identify the optimal structure and hyperparameter configuration for predicting Adobe's next-day upward movement. \n",
    "\n",
    "Below are some key considerations for this model building exercise:\n",
    "\n",
    "1. **Architecture exploreation**\n",
    "\n",
    "   We concentrate on LSTM models with **2 or 3 layers, with or without dropout**:\n",
    "    \n",
    "    - Baseline model: 2-layer LSTM without dropout\n",
    "    - Additional variants:\n",
    "      - A: 2-layer LSTM with dropout\n",
    "    \n",
    "      - B: 3-layer LSTM without dropout\n",
    "      \n",
    "      - C: 3-layer LSTM with dropout\n",
    "    \n",
    "    \n",
    "    - All models include a final `Dense` output layer with sigmoid activation for binary classification.\n",
    "    \n",
    "    - Models are evaluated using the metrics of AUC, F1 Score, Accuracy, Recall and Precision.\n",
    "    \n",
    "    - Due to the limited sample size (`n = 1310`), architectures with 4 or more LSTM layers are excluded to avoid overfitting.\n",
    "\n",
    "2. **Hyperparameter optimization**\n",
    "\n",
    "   For each candidate architecture, we will use **Bayesian Optimization** to tune:\n",
    "    \n",
    "    - Number of LSTM units per layer: $5$ to $25$, at the step of $5$\n",
    "    \n",
    "    - Dropout rates (where applicable): $[0.3, 0.4, 0.5, 0.6]$\n",
    "     \n",
    "    - Learning rate: $[0.0005, 0.001, 0.002]$\n",
    "     \n",
    "    - Activation functions: $[\\text{'elu'}, \\text{'relu'}]$\n",
    "\n",
    "3. **Other key hyperparameter design choices**:\n",
    "    - Optimization objective: maximize accuracy of validation set (`val_accuracy`). Maximizing validation AUC can often lead to zero class 1 prediction in this project due to balanced targets.\n",
    "    \n",
    "    - Training epochs: $200$\n",
    "    \n",
    "    - Early stopping patience: $20$\n",
    "  \n",
    "    - Optimizer: Adam\n",
    "\n",
    "4. **Reproducibility considerations**:\n",
    "\n",
    "    - Due to TensorFlow’s non‑determinism (LSTM kernels, GPU parallelism) and the stochastic nature of Bayesian search, **exact reproducibility of tuning results is not guaranteed**.\n",
    "    \n",
    "    - To mitigate variance, each architecture’s tuning will be run three times, and the best result from those runs will be saved and represent that model.\n",
    "    \n",
    "    - Although individual runs vary, performance across runs for a given structure should fall within a consistent range, allowing meaningful comparisons.\n",
    "\n",
    "5. **Others**:\n",
    "\n",
    "    - Training progress is logged using TensorBoard for transparent tracking.\n",
    "    \n",
    "    - Among the 4 optimized models, the one with best evaluation result on testing set will be selected for backtesting in the next chapter."
   ]
  },
  {
   "cell_type": "markdown",
   "id": "bc873e51-ad71-4f66-ab50-b9b693d002ee",
   "metadata": {},
   "source": [
    "[**Back to Content**](#content)"
   ]
  },
  {
   "cell_type": "markdown",
   "id": "3b612d64-8f63-4bdb-bc1d-bf9c6b1696e9",
   "metadata": {},
   "source": [
    "<a id='4.1'></a>\n",
    "## 4.1 Prepare dataset "
   ]
  },
  {
   "cell_type": "markdown",
   "id": "df8fd3ac-2505-44bc-973c-f6149133350b",
   "metadata": {},
   "source": [
    "<a id='4.1.1'></a>\n",
    "### 4.1.1 Split and scale the dataset"
   ]
  },
  {
   "cell_type": "markdown",
   "id": "636e5a27-8720-4711-9e40-bc4b64fd5e6f",
   "metadata": {},
   "source": [
    "To ensure a leak-free modeling pipeline, we begin by reverting to the **unscaled version of the dataset**. From there:\n",
    "\n",
    "- Restrict the dataset to the 45 features finalized in previous EDA phases.\n",
    "\n",
    "- Split this unscaled data into training ($70\\%$), validation ($15\\%$) and testing sets ($15\\%$), preserving chronological order for time-series integrity.\n",
    "\n",
    "- Fit scaling transformations (StandardScaler, MinMaxScaler, RobustScaler for respective features as appropriate) only on the training set to prevent future data (validation and testing sets) from influencing learned parameters.\n",
    "\n",
    "- Apply the fitted scalers to the validation and testing sets to maintain consistency.\n",
    "\n",
    "This approach preserves temporal structure and statistical independence across splits, laying a clean foundation for reliable LSTM training.\n",
    "\n",
    "We now have the following datasets prepared for training and evaluation:\n",
    "- **Training set**: `X_train_scaled` ($917$ samples, $45$ features), `y_train` ($917$ target labels)\n",
    "\n",
    "- **Validation set**: `X_val_scaled` ($196$ samples, $45$ features), `y_val` ($196$ target labels)\n",
    "\n",
    "- **Testing set**: `X_test_scaled` ($197$ samples, $45$ features), `y_test` ($197$ target labels)"
   ]
  },
  {
   "cell_type": "markdown",
   "id": "aab3758c-08a0-4b8a-9ee2-1db9e653c7de",
   "metadata": {},
   "source": [
    "The datasets are now fully prepared for LSTM model building."
   ]
  },
  {
   "cell_type": "markdown",
   "id": "740f36cd-9d03-4536-b188-5bc3f4f82765",
   "metadata": {},
   "source": [
    "[**Back to Content**](#content)"
   ]
  },
  {
   "cell_type": "markdown",
   "id": "626af8f3-7a4c-415f-9801-3921567716e3",
   "metadata": {},
   "source": [
    "<a id='4.1.2'></a>\n",
    "### 4.1.2 Create data generator"
   ]
  },
  {
   "cell_type": "markdown",
   "id": "d2e31dc3-b832-4610-9ebb-17886de62435",
   "metadata": {},
   "source": [
    "In this project of building LSTM model, a critical design choice is selecting an appropriate sequence length — the number of consecutive past days used as input for predicting the following day.\n",
    "\n",
    "For a technology stock like Adobe, a span of approximately one month ($20–22$ trading days) offers a practical balance:\n",
    "- Captures medium-term momentum and volatility trends\n",
    "\n",
    "- Preserves recent signal strength\n",
    "\n",
    "- Avoids overextending input length, which could dilute temporal relevance and increase model complexity\n",
    "\n",
    "Based on this reasoning, we set the **sequence length to $21$ days**.\n"
   ]
  },
  {
   "cell_type": "markdown",
   "id": "54577917-e4fe-4b5d-aeb7-8dbfc42a3c68",
   "metadata": {},
   "source": [
    "Meanwhile, we use `TimeseriesGenerator` from Keras to efficiently generate batches of sequential data for time-series modeling. \n",
    "\n",
    "A batch refers to a group of input sequences of features and their corresponding target values processed together during training or evaluation. Batching improves computational efficiency and allows for smoother gradient updates during optimization.\n",
    "\n",
    "Here, **the batch size is set to $32$**, balancing training stability and computational efficiency given the moderate dataset size. During generator creation, any remaining samples that fall short of a full batch are discarded.\n",
    "\n",
    "Following this discussion, we will have three generators:\n",
    "\n",
    "- `g_train`: $917//32 = 28$ batches\n",
    "\n",
    "- `g_val`: $196//32 = 6$ batches\n",
    "\n",
    "- `g_test`: $197//32 = 6$ batches\n",
    "\n",
    "Each batch contains:\n",
    "\n",
    "- $32$ (batch size) feature sequences, each representing the most recent $21$ (sequence length) trading days\n",
    "\n",
    "- Each day includes $45$ features, resulting in a feature batch shape of $(32, 21, 45)$\n",
    "\n",
    "- $32$ corresponding target values, each indicating whether the stock price moved up on the day following the 21-day window\n"
   ]
  },
  {
   "cell_type": "markdown",
   "id": "8a7126ee-dfbd-4fb0-a5f1-a54521533276",
   "metadata": {},
   "source": [
    "[**Back to Content**](#content)"
   ]
  },
  {
   "cell_type": "markdown",
   "id": "0464f302-380a-4e37-b181-d10b4ff8aae6",
   "metadata": {},
   "source": [
    "<a id='4.2'></a>\n",
    "## 4.2 Baseline model - 2 layer LSTM model without dropout"
   ]
  },
  {
   "cell_type": "markdown",
   "id": "6e8947d9-5f7f-43fc-bed9-576b7c645bde",
   "metadata": {},
   "source": [
    "<a id='4.2.1'></a>\n",
    "### 4.2.1 Build the model (2 layers without dropout)"
   ]
  },
  {
   "cell_type": "markdown",
   "id": "a33cb91a-bea8-423d-a77f-ea985c049c16",
   "metadata": {},
   "source": [
    "After structuring the architecture and tuning the hyperparameters within the planned search space, the optimized model has the following specifications:\n",
    "\n",
    "- Layer 1 units : $20$\n",
    "\n",
    "- Layer 2 units : $5$\n",
    "\n",
    "- Learning rate : $0.002$\n",
    "\n",
    "- Activation (layer 1) : relu \n",
    "\n",
    "- Activation (layer 2) : relu\n",
    "\n",
    "The illustration below depicts the finalized model structure.\n",
    "<center>\n",
    "  <img src=\"report_image/10_2layer_no_dropout.png\" alt=\"10_2layer_no_dropout\" width=450>\n",
    "</center>"
   ]
  },
  {
   "cell_type": "markdown",
   "id": "7b9f6ce4-388b-4ed1-a8ad-cc6ac5f54ae5",
   "metadata": {},
   "source": [
    "**Screenshots of key visuals on TensorBoard results (`TIME SERIES` tab):**\n",
    "<center>\n",
    "  <div style=\"text-align: center;\"><b>epoch_accuracy</b></div>\n",
    "  <img src=\"report_image/11_2layer_no_dropout_accuracy.png\" alt=\"11_2layer_no_dropout_accuracy\">\n",
    "</center>\n",
    "<br>\n",
    "<center>\n",
    "  <div style=\"text-align: center;\"><b>epoch_auc</b></div>\n",
    "  <img src=\"report_image/11_2layer_no_dropout_auc.png\" alt=\"11_2layer_no_dropout_auc\">\n",
    "</center>\n",
    "<br>\n",
    "<center>\n",
    "  <div style=\"text-align: center;\"><b>epoch_loss</b></div>\n",
    "  <img src=\"report_image/11_2layer_no_dropout_loss.png\" alt=\"11_2layer_no_dropout_loss\">\n",
    "</center>\n",
    "\n",
    "**Intepreatation:**\n",
    "- In the `epoch_accuracy` plot, across all the hyperparameter trials, most of them showed increasing validation accuracy, roughly converging in 3 clusters $[0.5, 0.56, 0.63]$ by epoch 25. The best-performing run achieved a validation accuracy of ~$0.68$, indicating solid learning progress. This reflects effective hyperparameter tuning to improve the accuracy.\n",
    "\n",
    "- The `epoch_auc` plot shows that most model configurations gradually improve their validation AUC over training epochs. Although the AUCs of some trails started around or below $0.5$ (random guessing), many of them reached above $0.65$, and the best even delivers $0.74$, indicating good discriminative power accumulated during the training.\n",
    "\n",
    "- The `epoch_loss` panel shows the binary cross-entropy loss over training epochs for different hyperparameter configurations. Among all the trials, approximately half showed steadily decreasing loss values, indicating effective learning. Other trials exhibited oscillating loss curves and entered early stopping very soon, suggesting less effective hyperparameter settings.\n",
    "\n",
    "- Generally speaking, most trails can finish learning around 30 epochs with improved accuracy, AUC and decreased loss. The optimized model from this training experience should demonstrate certain value in the later evaluation. "
   ]
  },
  {
   "cell_type": "markdown",
   "id": "9becf180-8cdc-487b-99fc-52e1ad6b4f19",
   "metadata": {},
   "source": [
    "[**Back to Content**](#content)"
   ]
  },
  {
   "cell_type": "markdown",
   "id": "8e8b69ea-3a93-4be8-a38a-8f618ca7b767",
   "metadata": {},
   "source": [
    "<a id='4.2.2'></a>\n",
    "### 4.2.2 Evaluate the model (2 layers without dropout)"
   ]
  },
  {
   "cell_type": "markdown",
   "id": "33a419f9-a1d6-4b0d-951b-c9f79d2eaca2",
   "metadata": {},
   "source": [
    "<a id='4.2.2.1'></a>\n",
    "#### 4.2.2.1 Evaluate the training data against the testing data"
   ]
  },
  {
   "cell_type": "markdown",
   "id": "5d98eec4-c11f-477e-abb1-808f4b3a9b57",
   "metadata": {},
   "source": [
    "The trained model was evaluated on both the training and testing datasets using `g_train` and `g_test`, respectively. The observed accuracies are:\n",
    "- Training accuracy: $0.63$\n",
    "- Testing accuracy: $0.55$"
   ]
  },
  {
   "cell_type": "markdown",
   "id": "e10d61bb-a7f1-4679-9b0c-0872a45af656",
   "metadata": {},
   "source": [
    "<a id='4.2.2.2'></a>\n",
    "#### 4.2.2.2 Use the model to generate predictions on the testing data and conduct a more comprehensive performance analysis"
   ]
  },
  {
   "cell_type": "markdown",
   "id": "0055aa5f-d5f7-4405-8dc3-8f5654c9e243",
   "metadata": {},
   "source": [
    "The model's performance on the testing dataset `g_test` is detailed below, including ROC Curve, Confusion Matrix and Classification Report:\n",
    "<center>\n",
    "  <img src=\"report_image/12_2layer_no_dropout_roc.png\" alt=\"12_2layer_no_dropout_roc\" width = 650>\n",
    "</center>\n",
    "<br>\n",
    "<center>\n",
    "  <img src=\"report_image/13_2layer_no_dropout_confusion_matrix.png\" alt=\"13_2layer_no_dropout_confusion_matrix\" width = 650>\n",
    "</center>\n",
    "<br>\n",
    "\n",
    "<div style=\"text-align: center;\"><b>Classification Report - 2 Layers without Dropout</b></div>\n",
    "\n",
    "| Class           | Precision | Recall | F1-Score | Support |\n",
    "|-----------------|-----------|--------|----------|---------|\n",
    "| **0**           | 0.56      | 0.70   | 0.62     | 92      |\n",
    "| **1**           | 0.54      | 0.39   | 0.46     | 84      |\n",
    "| **Accuracy**    |           |        | 0.55     | 176     |\n",
    "| **Macro Avg**   | 0.55      | 0.54   | 0.54     | 176     |\n",
    "| **Weighted Avg**| 0.55      | 0.55   | 0.54     | 176     |\n",
    "\n"
   ]
  },
  {
   "cell_type": "markdown",
   "id": "acc39dea-ba08-4a05-8969-829707b5a4e5",
   "metadata": {},
   "source": [
    "<a id='4.2.2.3'></a>\n",
    "#### 4.2.2.3 Baseline model evaluation summary\n",
    "**Training Metrics**\n",
    "- Accuracy: $0.63$\n",
    "\n",
    "**Testing Metrics**\n",
    "- Accuracy: $0.55$\n",
    "\n",
    "- AUC: $0.52$\n",
    "\n",
    "- Class 1 precision: $0.54$\n",
    "\n",
    "- Class 1 recall: $0.39$\n",
    "\n",
    "- Class 1 F1 score: $0.46$\n",
    "\n",
    "\n",
    "\n",
    "**Interpretation**\n",
    "- Moderate learning without extreme overfitting: Training accuracy of $0.63$ suggests the model learned moderately and testing accuracy of $0.55$, indicates limited generalization with some room for performance gains.\n",
    "\n",
    "- Limited discriminative power: AUC of $0.52$ shows near-random separation capability.\n",
    "\n",
    "- Weak signal capture: precision ($0.54$), recall ($0.39$), and F1 score ($0.46$) suggest the model struggles to identify upward trends.\n",
    "\n",
    "- It’s an acceptable starting point for iterative refinement. In our futher effort, additional layer may improve signal capture.\n"
   ]
  },
  {
   "cell_type": "markdown",
   "id": "26e15781-2157-4eb4-9f4f-48c35054e6d0",
   "metadata": {},
   "source": [
    "[**Back to Content**](#content)"
   ]
  },
  {
   "cell_type": "markdown",
   "id": "c2fe3a15-7169-4e75-b1cb-55a2464a6eb7",
   "metadata": {},
   "source": [
    "<a id='4.3'></a>\n",
    "## 4.3 Variant model A - 2 layer LSTM model with dropout"
   ]
  },
  {
   "cell_type": "markdown",
   "id": "450b6032-fdb6-4c33-aa76-bd20ab40d666",
   "metadata": {},
   "source": [
    "<a id='4.3.1'></a>\n",
    "### 4.3.1 Build the model (2 layers with dropout)"
   ]
  },
  {
   "cell_type": "markdown",
   "id": "fdeebc1e-4159-4cc7-ae3f-739d8e2cc1d8",
   "metadata": {},
   "source": [
    "After structuring the architecture and tuning the hyperparameters within the planned search space, the optimized model has the following specifications:\n",
    "\n",
    "- Layer 1 units : $5$\n",
    "\n",
    "- Layer 2 units : $5$\n",
    "\n",
    "- Dropout rate after layer 1 : $0.5$\n",
    "\n",
    "- Learning rate : $0.002$\n",
    "\n",
    "- Activation (layer 1) : relu \n",
    "\n",
    "- Activation (layer 2) : relu\n",
    "\n",
    "The illustration below depicts the finalized model structure.\n",
    "<center>\n",
    "  <img src=\"report_image/14_2layer_dropout.png\" alt=\"14_2layer_dropout\" width=450>\n",
    "</center>"
   ]
  },
  {
   "cell_type": "markdown",
   "id": "e37708ed-2b40-40aa-8eda-edf722601112",
   "metadata": {},
   "source": [
    "**Screenshots of key visuals on TensorBoard results (`TIME SERIES` tab):**\n",
    "<center>\n",
    "  <div style=\"text-align: center;\"><b>epoch_accuracy</b></div>\n",
    "  <img src=\"report_image/15_2layer_dropout_accuracy.png\" alt=\"15_2layer_dropout_accuracy\">\n",
    "</center>\n",
    "<br>\n",
    "<center>\n",
    "  <div style=\"text-align: center;\"><b>epoch_auc</b></div>\n",
    "  <img src=\"report_image/15_2layer_dropout_auc.png\" alt=\"15_2layer_dropout_auc\">\n",
    "</center>\n",
    "<br>\n",
    "<center>\n",
    "  <div style=\"text-align: center;\"><b>epoch_loss</b></div>\n",
    "  <img src=\"report_image/15_2layer_dropout_loss.png\" alt=\"15_2layer_dropout_loss\">\n",
    "</center>\n",
    "\n",
    "**Intepreatation:**\n",
    "- In the `epoch_accuracy` plot, across all the hyperparameter trials, most showed increasing validation accuracy, and more trails had clear upward tendency than the baseline model. But the best-performing run achieved a validation accuracy of ~$0.66$, less than the baseline model. This shows adding dropout improves the chance of better performance, but may not necessarily push the upper limit of accuracy in our project.\n",
    "\n",
    "- The `epoch_auc` plot shows that most model configurations gradually improved their validation AUC over training epochs. Similar to the accuracy plot, more trails in this model demonstrated enhancement over the epochs than the baseline model, yet the best AUC $0.72$ didn't exceed the baseline model's record. \n",
    "\n",
    "- The `epoch_loss` also illustrates 2 splits: half trails showed steadily decreasing loss values, indicating effective learning. Others exhibited oscillating loss curves. Compared to the baseline model where all the trails finished within around $30$ epochs, many trails here with decreasing loss took more epochs (~$60$) to reach early stopping. \n",
    "\n",
    "- Generally, this model with dropout requires more training epochs before meeting early stopping criteria based on loss reduction. While most trials outperformed those from the baseline model, the top-performing trial did not surpass the strongest baseline counterpart."
   ]
  },
  {
   "cell_type": "markdown",
   "id": "d1ffc015-5b42-4a26-af69-3d51d64eca5f",
   "metadata": {},
   "source": [
    "[**Back to Content**](#content)"
   ]
  },
  {
   "cell_type": "markdown",
   "id": "7f307d4d-1a7e-4475-bd3a-6aeba90f359e",
   "metadata": {},
   "source": [
    "<a id='4.3.2'></a>\n",
    "### 4.3.2 Evaluate the model (2 layers with dropout)"
   ]
  },
  {
   "cell_type": "markdown",
   "id": "0e3e4163-70fc-43ae-b3a9-1434687e5063",
   "metadata": {},
   "source": [
    "<a id='4.3.2.1'></a>\n",
    "#### 4.3.2.1 Evaluate the training data against the testing data"
   ]
  },
  {
   "cell_type": "markdown",
   "id": "ac60b6b4-6dcc-42d2-92d5-10311bfc04a0",
   "metadata": {},
   "source": [
    "The trained model was evaluated on both the training and testing datasets using `g_train` and `g_test`, respectively. The observed accuracies are:\n",
    "- Training accuracy: $0.58$\n",
    "- Testing accuracy: $0.51$"
   ]
  },
  {
   "cell_type": "markdown",
   "id": "2e1ce680-2188-4524-bd80-6668eae9c8e6",
   "metadata": {},
   "source": [
    "<a id='4.3.2.2'></a>\n",
    "#### 4.3.2.2 Use the model to generate predictions on the testing data and conduct a more comprehensive performance analysis"
   ]
  },
  {
   "cell_type": "markdown",
   "id": "87f8d625-b4c9-4ebe-97a1-def10410ee25",
   "metadata": {},
   "source": [
    "The model's performance on the testing dataset `g_test` is detailed below, including ROC Curve, Confusion Matrix and Classification Report:\n",
    "<center>\n",
    "  <img src=\"report_image/16_2layer_dropout_roc.png\" alt=\"16_2layer_dropout_roc\" width = 650>\n",
    "</center>\n",
    "<br>\n",
    "<center>\n",
    "  <img src=\"report_image/17_2layer_dropout_confusion_matrix.png\" alt=\"17_2layer_dropout_confusion_matrix\" width = 650>\n",
    "</center>\n",
    "<br>\n",
    "\n",
    "<div style=\"text-align: center;\"><b>Classification Report - 2 Layers with Dropout</b></div>\n",
    "\n",
    "| Class           | Precision | Recall | F1-Score | Support |\n",
    "|-----------------|-----------|--------|----------|---------|\n",
    "| **0**           | 0.55      | 0.37   | 0.44     | 92      |\n",
    "| **1**           | 0.49      | 0.67   | 0.57     | 84      |\n",
    "| **Accuracy**    |           |        | 0.51     | 176     |\n",
    "| **Macro Avg**   | 0.52      | 0.52   | 0.50     | 176     |\n",
    "| **Weighted Avg**| 0.52      | 0.51   | 0.50     | 176     |\n",
    "\n"
   ]
  },
  {
   "cell_type": "markdown",
   "id": "8925dab4-07f1-426c-b8b0-992326ec1118",
   "metadata": {},
   "source": [
    "[**Back to Content**](#content)"
   ]
  },
  {
   "cell_type": "markdown",
   "id": "49231f3a-55ce-452d-b001-92401c8d0a09",
   "metadata": {},
   "source": [
    "<a id='4.3.2.3'></a>\n",
    "#### 4.3.2.3 Model evaluation summary\n",
    "**Training Metrics**\n",
    "- Accuracy: $0.58$\n",
    "\n",
    "**Testing Metrics**\n",
    "- Accuracy: $0.51$\n",
    "\n",
    "- Class 1 precision: $0.49$\n",
    "\n",
    "- Class 1 recall: $0.67$\n",
    "\n",
    "- Class 1 F1 score: $0.57$\n",
    "\n",
    "- AUC: $0.51$\n",
    "\n",
    "**Interpretation**\n",
    "- Moderate learning without extreme overfitting: Training accuracy of $0.63$ suggests the model learned moderately and testing accuracy of $0.55$, indicates limited generalization with some room for performance gains.\n",
    "\n",
    "- Aggressive positive detection: High recall for class 1 ($0.67$) paired with moderate precision ($0.49$) shows the model favors identifying positives, possibly at the cost of false alarms.\n",
    "\n",
    "- Limited discriminative power: AUC of $0.51$ shows the model still deosn't perform too much better than random guess.\n",
    "\n",
    "- While the signal capture is increased from the baseline model, it is somehow at the cost of class 1 precision. We will then explore how the additional layer can help improve the overal performance.\n"
   ]
  },
  {
   "cell_type": "markdown",
   "id": "fa017a97-726a-4cc3-9a8b-4a1e46f015a4",
   "metadata": {},
   "source": [
    "[**Back to Content**](#content)"
   ]
  },
  {
   "cell_type": "markdown",
   "id": "ffda77b1-6a88-496f-a771-fe8abf6a7707",
   "metadata": {},
   "source": [
    "<a id='4.4'></a>\n",
    "## 4.4 Variant model B - 3 layer LSTM model without dropout"
   ]
  },
  {
   "cell_type": "markdown",
   "id": "22ae8f11-bae4-42ed-9359-905c481be830",
   "metadata": {},
   "source": [
    "<a id='4.4.1'></a>\n",
    "### 4.4.1 Build the model (3 layers without dropout)"
   ]
  },
  {
   "cell_type": "markdown",
   "id": "8c7ebb08-d17e-4fce-9c5c-96f96a6c82e8",
   "metadata": {},
   "source": [
    "After structuring the architecture and tuning the hyperparameters within the planned search space, the optimized model has the following specifications:\n",
    "\n",
    "- Layer 1 units : $15$\n",
    "\n",
    "- Layer 2 units : $25$\n",
    "\n",
    "- Layer 3 units : $5$\n",
    "\n",
    "- Learning rate : $0.002$\n",
    "\n",
    "- Activation (layer 1): elu \n",
    "\n",
    "- Activation (layer 2): elu\n",
    "\n",
    "- Activation (layer 3): relu\n",
    "\n",
    "The illustration below depicts the finalized model structure.\n",
    "<center>\n",
    "  <img src=\"report_image/18_3layer_no_dropout.png\" alt=\"18_3layer_no_dropout\" width=450>\n",
    "</center>"
   ]
  },
  {
   "cell_type": "markdown",
   "id": "dde01141-4167-43c8-acf1-0a4ba582a002",
   "metadata": {},
   "source": [
    "**Screenshots of key visuals on TensorBoard results (`TIME SERIES` tab):**\n",
    "<center>\n",
    "  <div style=\"text-align: center;\"><b>epoch_accuracy</b></div>\n",
    "  <img src=\"report_image/19_3layer_no_dropout_accuracy.png\" alt=\"19_3layer_no_dropout_accuracy\">\n",
    "</center>\n",
    "<br>\n",
    "<center>\n",
    "  <div style=\"text-align: center;\"><b>epoch_auc</b></div>\n",
    "  <img src=\"report_image/19_3layer_no_dropout_auc.png\" alt=\"19_3layer_no_dropout_auc\">\n",
    "</center>\n",
    "<br>\n",
    "<center>\n",
    "  <div style=\"text-align: center;\"><b>epoch_loss</b></div>\n",
    "  <img src=\"report_image/19_3layer_no_dropout_loss.png\" alt=\"19_3layer_no_dropout_loss\">\n",
    "</center>\n",
    "\n",
    "**Intepreatation:**\n",
    "- In the `epoch_accuracy` plot, across all the hyperparameter trials, most of them showed increasing validation accuracy, demonstrating similar patterns as the baseline model except taking more epochs. The best-performing run also achieved a validation accuracy of ~$0.68$, similar to the best result from the baseline model as well.\n",
    "\n",
    "- The `epoch_auc` plot shows that most model configurations gradually improved their validation AUC over training epochs. Although the AUCs of some trials started around or below $0.5$ (random guessing), the best trail deliverd AUC ~$0.75$, very close to that from the baseline model.\n",
    "\n",
    "- The `epoch_loss` plot also demonstrates high level similarity to its baseline model counterpart. Among all the trials, approximately half showed steadily decreasing loss values, indicating effective learning. Other trials exhibited oscillating loss curves, suggesting less effective hyperparameter settings.\n",
    "\n",
    "- Overall, compared to the baseline model, adding an extra layer to this model had limited impact on the training experience. The only notable change was that the trails required more epochs to reach early stopping."
   ]
  },
  {
   "cell_type": "markdown",
   "id": "a49956a8-3925-45d3-a1cc-208e46194706",
   "metadata": {},
   "source": [
    "[**Back to Content**](#content)"
   ]
  },
  {
   "cell_type": "markdown",
   "id": "38165a5b-edce-406f-8bd1-dc0dfbbb96f8",
   "metadata": {},
   "source": [
    "<a id='4.4.2'></a>\n",
    "### 4.4.2 Evaluate the model (3 layers without dropout)"
   ]
  },
  {
   "cell_type": "markdown",
   "id": "3c47120e-38df-4753-a334-92728def77b3",
   "metadata": {},
   "source": [
    "<a id='4.4.2.1'></a>\n",
    "#### 4.4.2.1 Evaluate the training data against the testing data"
   ]
  },
  {
   "cell_type": "markdown",
   "id": "3cb9bd72-725a-41d1-a9b6-5250c75540bc",
   "metadata": {},
   "source": [
    "The trained model was evaluated on both the training and testing datasets using `g_train` and `g_test`, respectively. The observed accuracies are:\n",
    "- Training accuracy: $0.60$\n",
    "- Testing accuracy: $0.52$"
   ]
  },
  {
   "cell_type": "markdown",
   "id": "286e19f5-d367-470a-9e8f-453e3829af52",
   "metadata": {},
   "source": [
    "<a id='4.4.2.2'></a>\n",
    "#### 4.4.2.2 Use the model to generate predictions on the testing data and conduct a more comprehensive performance analysis"
   ]
  },
  {
   "cell_type": "markdown",
   "id": "ab22b57b-e950-45ef-b47d-5e08da6eee62",
   "metadata": {},
   "source": [
    "The model's performance on the testing dataset `g_test` is detailed below, including ROC Curve, Confusion Matrix and Classification Report:\n",
    "<center>\n",
    "  <img src=\"report_image/20_3layer_no_dropout_roc.png\" alt=\"20_3layer_no_dropout_roc\" width = 650>\n",
    "</center>\n",
    "<br>\n",
    "<center>\n",
    "  <img src=\"report_image/21_3layer_no_dropout_confusion_matrix.png\" alt=\"21_3layer_no_dropout_confusion_matrix\" width = 650>\n",
    "</center>\n",
    "<br>\n",
    "\n",
    "<div style=\"text-align: center;\"><b>Classification Report - 3 Layers without Dropout</b></div>\n",
    "\n",
    "| Class           | Precision | Recall | F1-Score | Support |\n",
    "|-----------------|-----------|--------|----------|---------|\n",
    "| **0**           | 0.53      | 0.73   | 0.61     | 92      |\n",
    "| **1**           | 0.50      | 0.30   | 0.37     | 84      |\n",
    "| **Accuracy**    |           |        | 0.52     | 176     |\n",
    "| **Macro Avg**   | 0.52      | 0.51   | 0.49     | 176     |\n",
    "| **Weighted Avg**| 0.52      | 0.52   | 0.50     | 176     |\n",
    "\n"
   ]
  },
  {
   "cell_type": "markdown",
   "id": "cfd40a4c-6fab-4675-bbba-c7d90680ae34",
   "metadata": {},
   "source": [
    "[**Back to Content**](#content)"
   ]
  },
  {
   "cell_type": "markdown",
   "id": "2884bb16-7793-46ad-95fa-e68bc9db31b2",
   "metadata": {},
   "source": [
    "<a id='4.4.2.3'></a>\n",
    "#### 4.4.2.3 Baseline model evaluation summary\n",
    "**Training Metrics**\n",
    "- Accuracy: $0.60$\n",
    "\n",
    "**Testing Metrics**\n",
    "- Accuracy: $0.52$\n",
    "\n",
    "- Class 1 precision: $0.50$\n",
    "\n",
    "- Class 1 recall: $0.30$\n",
    "\n",
    "- Class 1 F1 score: $0.37$\n",
    "\n",
    "- AUC: $0.52$\n",
    "\n",
    "**Interpretation**\n",
    "- Moderate learning without extreme overfitting: Training accuracy of $0.60$ suggests the model learned moderately and testing accuracy of $0.52$, indicates limited predictive power.\n",
    "\n",
    "- Conservative class 1 prediction: moderate precision ($0.50$) with low recall ($0.30$) suggests the model predicts positives cautiously, missing many true positives.\n",
    "\n",
    "- Limited discriminative power: AUC of $0.52$ indicates the model’s ability to distinguish between classes still remains close to chance level.\n",
    "\n",
    "- Adding another layer doesn't improve the performance of the model. Even 2 layer model with dropout can demonstrate slighly more value.\n"
   ]
  },
  {
   "cell_type": "markdown",
   "id": "edb6c0b9-4a0e-4f57-abe0-4289e43d30ba",
   "metadata": {},
   "source": [
    "[**Back to Content**](#content)"
   ]
  },
  {
   "cell_type": "markdown",
   "id": "9521e9b5-b265-47e9-a01c-bdaf61138218",
   "metadata": {},
   "source": [
    "<a id='4.5'></a>\n",
    "## 4.5 Variant model C - 3 layer LSTM model with dropout"
   ]
  },
  {
   "cell_type": "markdown",
   "id": "02628d68-0b0c-4c5f-b374-02423231beef",
   "metadata": {},
   "source": [
    "<a id='4.5.1'></a>\n",
    "### 4.5.1 Build the model (3 layers with dropout)"
   ]
  },
  {
   "cell_type": "markdown",
   "id": "4d35956e-afd1-432c-8a04-747a6066ce62",
   "metadata": {},
   "source": [
    "After structuring the architecture and tuning the hyperparameters within the planned search space, the optimized model has the following specifications:\n",
    "\n",
    "- Layer 1 units : $15$\n",
    "\n",
    "- Layer 2 units : $10$\n",
    "\n",
    "- Layer 3 units : $15$\n",
    "\n",
    "- Dropout rate after layer 1 : $0.5$\n",
    "\n",
    "- Dropout rate after layer 2 : $0.5$\n",
    "\n",
    "- Learning rate : $0.002$\n",
    "\n",
    "- Activation (layer 1): elu \n",
    "\n",
    "- Activation (layer 2): relu\n",
    "\n",
    "- Activation (layer 3): relu\n",
    "\n",
    "The illustration below depicts the finalized model structure.\n",
    "<center>\n",
    "  <img src=\"report_image/22_3layer_dropout.png\" alt=\"22_3layer_dropout\" width=450>\n",
    "</center>"
   ]
  },
  {
   "cell_type": "markdown",
   "id": "a8f6400a-187c-4313-97d0-8db6385f97b5",
   "metadata": {},
   "source": [
    "**Screenshots of key visuals on TensorBoard results (`TIME SERIES` tab):**\n",
    "<center>\n",
    "  <div style=\"text-align: center;\"><b>epoch_accuracy</b></div>\n",
    "  <img src=\"report_image/23_3layer_dropout_accuracy.png\" alt=\"23_3layer_dropout_accuracy\">\n",
    "</center>\n",
    "<br>\n",
    "<center>\n",
    "  <div style=\"text-align: center;\"><b>epoch_auc</b></div>\n",
    "  <img src=\"report_image/23_3layer_dropout_auc.png\" alt=\"23_3layer_dropout_auc\">\n",
    "</center>\n",
    "<br>\n",
    "<center>\n",
    "  <div style=\"text-align: center;\"><b>epoch_loss</b></div>\n",
    "  <img src=\"report_image/23_3layer_dropout_loss.png\" alt=\"23_3layer_dropout_loss\">\n",
    "</center>\n",
    "\n",
    "**Intepreatation:**\n",
    "- In the `epoch_accuracy` plot, across all the hyperparameter trials, most of them showed increasing validation accuracy. Yet the starting accuracy was quite low from all trails, and the best accuracy $0.64$ was the worst among all the models.\n",
    "\n",
    "- The `epoch_auc` plot shows that most model configurations gradually improve their validation AUC over training epochs. Although the AUC improvement demonstrated similar trends compared to other models, the best value $0.71$ was still the lowest.\n",
    "\n",
    "- The `epoch_loss` panel also reveals two distinct patterns: roughly half of the trials show consistently decreasing loss, suggesting effective learning, while the others display oscillating or upward-trending loss curves — an undesirable behavior not observed in other models. The lowest recorded loss was $0.62$, the worst among all the models again. Most trials reached early stopping near epoch 47, with only two outliers extending to epoch 62.\n",
    "\n",
    "- With the extra layer and dropout, this model even delivered worse results with more epochs during the training, suggesting that for this project, additional neurons and regularization may not be a good combination to improve performance. "
   ]
  },
  {
   "cell_type": "markdown",
   "id": "6dfe38f3-1972-425d-85e9-95a4cfe601e2",
   "metadata": {},
   "source": [
    "[**Back to Content**](#content)"
   ]
  },
  {
   "cell_type": "markdown",
   "id": "db13fc04-f457-45a7-8e80-f4289182fae1",
   "metadata": {},
   "source": [
    "<a id='4.5.2'></a>\n",
    "### 4.5.2 Evaluate the model (3 layers with dropout)"
   ]
  },
  {
   "cell_type": "markdown",
   "id": "9443d343-a580-42b3-bc14-01fc93061779",
   "metadata": {},
   "source": [
    "<a id='4.5.2.1'></a>\n",
    "#### 4.5.2.1 Evalute the training data against the testing data"
   ]
  },
  {
   "cell_type": "markdown",
   "id": "9eeba05b-a214-4979-92e2-8ef669663a0f",
   "metadata": {},
   "source": [
    "The trained model was evaluated on both the training and testing datasets using `g_train` and `g_test`, respectively. The observed accuracies are:\n",
    "- Training accuracy: $0.53$\n",
    "- Testing accuracy: $0.53$"
   ]
  },
  {
   "cell_type": "markdown",
   "id": "cc1ecaad-bc2c-48d6-8259-492615a5ddb4",
   "metadata": {},
   "source": [
    "<a id='4.5.2.2'></a>\n",
    "#### 4.5.2.2 Use the model to generate predictions on the testing data and conduct a more comprehensive performance analysis"
   ]
  },
  {
   "cell_type": "markdown",
   "id": "57ea0569-85d9-4b99-b6ea-6970529d8e51",
   "metadata": {},
   "source": [
    "The model's performance on the testing dataset `g_test` is detailed below, including ROC Curve, Confusion Matrix and Classification Report:\n",
    "<center>\n",
    "  <img src=\"report_image/24_3layer_dropout_roc.png\" alt=\"24_3layer_dropout_roc\" width = 650>\n",
    "</center>\n",
    "<br>\n",
    "<center>\n",
    "  <img src=\"report_image/25_3layer_dropout_confusion_matrix.png\" alt=\"25_3layer_dropout_confusion_matrix\" width = 650>\n",
    "</center>\n",
    "<br>\n",
    "\n",
    "<div style=\"text-align: center;\"><b>Classification Report - 3 Layers with Dropout</b></div>\n",
    "\n",
    "| Class           | Precision | Recall | F1-Score | Support |\n",
    "|-----------------|-----------|--------|----------|---------|\n",
    "| **0**           | 0.54      | 0.73   | 0.62     | 92      |\n",
    "| **1**           | 0.52      | 0.32   | 0.40     | 84      |\n",
    "| **Accuracy**    |           |        | 0.53     | 176     |\n",
    "| **Macro Avg**   | 0.53      | 0.52   | 0.51     | 176     |\n",
    "| **Weighted Avg**| 0.53      | 0.53   | 0.51     | 176     |\n",
    "\n"
   ]
  },
  {
   "cell_type": "markdown",
   "id": "d67eb1c3-05b7-4b3e-87f6-c114121e7041",
   "metadata": {},
   "source": [
    "[**Back to Content**](#content)"
   ]
  },
  {
   "cell_type": "markdown",
   "id": "1d4410be-9985-401a-8c1b-71f7e898a973",
   "metadata": {},
   "source": [
    "<a id='4.5.2.3'></a>\n",
    "#### 4.5.2.3 Model evaluation summary\n",
    "**Training Metrics**\n",
    "- Accuracy: $0.53$\n",
    "\n",
    "**Testing Metrics**\n",
    "- Accuracy: $0.53$\n",
    "\n",
    "- Class 1 precision: $0.52$\n",
    "\n",
    "- Class 1 recall: $0.32$\n",
    "\n",
    "- Class 1 F1 score: $0.40$\n",
    "\n",
    "- AUC: $0.55$\n",
    "\n",
    "**Interpretation**\n",
    "- Moderate learning with consistency: Training and testing accuracy tie at $0.53$, indicating zero overfitting. But the drop of training accuracy suggests the model doesn't learn as much as previous ones.\n",
    "\n",
    "- Moderate precision, low recall for class 1: The model predicts positives fairly accurately (precision: $0.52$ but misses many actual positives (recall: $0.32$), pulling the F1 score to $0.40$.\n",
    "\n",
    "- Limited discriminative power: AUC of $0.55$ shows improvement on distinguishing between classes but still underwhelming.\n",
    "\n",
    "- While dropout helps reduce overfitting and enhances discriminative power, the overall accuracy shows no improvement, making it difficult to consider this model the best.\n"
   ]
  },
  {
   "cell_type": "markdown",
   "id": "8d25a779-0f27-4e1b-a1ac-5ec6229a65a6",
   "metadata": {},
   "source": [
    "[**Back to Content**](#content)"
   ]
  },
  {
   "cell_type": "markdown",
   "id": "1306b096-bf55-48e4-9f34-a1c1642a6112",
   "metadata": {},
   "source": [
    "<a id='4.6'></a>\n",
    "## 4.6 Review of all the models"
   ]
  },
  {
   "cell_type": "markdown",
   "id": "24a737d6-e5f3-4597-9af3-27742d4cdfc7",
   "metadata": {},
   "source": [
    "Let's collect all the performance data and put them together in a dataframe for a clear comparision.\n",
    "|         | training accuracy | testing accuracy | train/test accuracy gap | AUC  | class 1 precision | class 1 recall | class 1 F1 score |\n",
    "|---------|-------------------|------------------|-------------------------|------|-------------------|----------------|------------------|\n",
    "| **2 layers without dropout (baseline model)** | 0.630 | 0.550 | 0.080 | 0.520 | 0.540 | 0.390 | 0.460 |\n",
    "| **2 layers with dropout (variant model A)**   | 0.580 | 0.510 | 0.070 | 0.510 | 0.490 | 0.670 | 0.570 |\n",
    "| **3 layers without dropout (variant model B)**| 0.600 | 0.520 | 0.080 | 0.520 | 0.500 | 0.300 | 0.370 |\n",
    "| **3 layers with dropout (variant model C)**   | 0.530 | 0.530 | 0.000 | 0.550 | 0.520 | 0.320 | 0.400 |\n"
   ]
  },
  {
   "cell_type": "markdown",
   "id": "965e386d-9bea-4cd1-b709-9d28ac91deb1",
   "metadata": {},
   "source": [
    "- **Baseline model (2 layers without dropout)** has the highest training ($0.63$), testing accuracy ($0.55$) and precision ($0.54$), but suffers from overfitting (train/test gap: $0.08$) and low recall ($0.39$) on class 1 (uptrend).\n",
    "\n",
    "- **Variant model A (2 layers with dropout)** shows better class 1 recall ($0.67$) and highest class 1 F1 score ($0.57$), indicating stronger detection of uptrends, despite modest accuracy and AUC. Its slight drop in accuracy is an acceptable trade-off for its predictive strength on the target class. It is the only model with a higher recall than precision, demonstrating the most aggresive predicting style among the 4 models.\n",
    "\n",
    "- **Variant model B (3 layers without dropout)** offers no significant accuracy or AUC improvement and has the lowest class 1 recall ($0.30$) and F1 score ($0.37$), suggesting it's less effective at identifying uptrends. Its train/test accuracy gap and AUC are the same as those of the baseline model, while precision and recall follow a similar pattern as well. It can be seen as a resembling but weaker version of the baseline model.\n",
    "\n",
    "- **Variant model C (3 layers with dropout)** achieves the lowest overfitting ($0.00$ gap) and highest AUC ($0.55$), indicating balanced generalization from dropout and better discriminative power possible contributed by the additional layer. But its recall ($0.32$) and F1 ($0.40$) remain low, indicating weak capability to catch upward movements. Its complexity didn't translate to substantially better classification metrics.\n",
    "\n",
    "- **Dropout generally improves generalization**: Comparing both pairs (2-layer vs. 2-layer with dropout and 3-layer vs. 3-layer with dropout), dropout reduced overfitting and improved recall for detecting uptrends. \n",
    "\n",
    "- **Adding a third LSTM layer doesn't yield clear benefits**: Increasing depth from 2 to 3 layers did not improve accuracy, AUC, or class 1 performance. In fact, the 3-layer models (with or without dropout) showed lower F1 scores ($0.37–0.40$) and poorer recall than the 2-layer with dropout model.\n",
    "\n",
    "\n",
    "### Recommended Model for Backtesting: Baseline model (2 layers without dropout)\n",
    "Adding an extra layer negatively impacted model performance, so neither Variant Model B nor C will be considered the best candidate.\n",
    "\n",
    "**Then, I conducted backtesting for both baseline model and variant model A, and the baseline model showed slightly better performance.** \n",
    "\n",
    "This is because Variant A achieved a relatively high F1 score ($0.57$), driven by strong recall ($0.67$) but limited precision ($0.49$), reflecting an aggressive prediction style that led to more false alarms. Given the high volatility and frequent downturns in Adobe’s share price between 2020 and 2025, these false alarms would introduce significant negative returns that offset the gains from correct predictions.\n",
    "\n",
    "As a result, a more conservative strategy is better suited for backtesting such a volatile asset. **The baseline model, with its higher precision and accuracy, is the preferred choice for final deployment.**\n"
   ]
  },
  {
   "cell_type": "markdown",
   "id": "893d5a33-bae0-4103-a028-9d3eb3b4cc49",
   "metadata": {},
   "source": [
    "[**Back to Content**](#content)"
   ]
  },
  {
   "cell_type": "markdown",
   "id": "d0d89857-9945-4bbf-aa53-45cd5a1f4ca5",
   "metadata": {},
   "source": [
    "<a id='5'></a>\n",
    "# 5. Trading strategy with backtesting"
   ]
  },
  {
   "cell_type": "markdown",
   "id": "8ba412a8-0b60-4001-83da-e1bc1f01d326",
   "metadata": {},
   "source": [
    "In this chapter, we encapsulate the baseline model (2-layer without dropout) as a trading strategy to assess its performance. \n",
    "\n",
    "Specifically, we reapply the model to the full Adobe dataset from 2020 to 2025 and evaluate its results using a range of analytical techniques."
   ]
  },
  {
   "cell_type": "markdown",
   "id": "33d3c7e9-6d9a-444b-81c9-8e7c9e5b6237",
   "metadata": {},
   "source": [
    "<a id = \"5.1\"></a>\n",
    "## 5.1 Profit analysis ##\n",
    "To assess the effectiveness of the baseline model, we will conduct a simple backtesting trading exercise with the 5-year Adobe price data. The trading rules are straightforward:\n",
    "- **Buy Signal (Predicted = 1):** Purchase one share of Adobe at the day's closing price.\n",
    "\n",
    "- **Sell on the Next Day:** If a purchase occurs, the position will be sold at the next day's closing price.\n",
    "\n",
    "- **No Trade (Predicted = 0):** No transaction is executed on this day related to this predicition.\n",
    "\n",
    "- **No Transaction Costs or Friction Included:** This backtest assumes a cost-free trading environment for simplicity.\n",
    "\n",
    "Trades following these rules will be referred to as the **LSTM Strategy** in the subsequent analysis."
   ]
  },
  {
   "cell_type": "markdown",
   "id": "d437fa25-874b-4639-995f-4b34115a13ae",
   "metadata": {},
   "source": [
    "After a series of calculations, I derived the daily cumulative profit from trading using the LSTM strategy in the past 5 years. For comparison, I also computed the daily cumulative profit following a buy-and-hold approach.\n",
    "\n",
    "The illustration below visualizes the performance of both strategies over time.\n",
    "<center>\n",
    "  <img src=\"report_image/26_profit_analysis.png\" alt=\"26_profit_analysis\" width = 850>\n",
    "</center>"
   ]
  },
  {
   "cell_type": "markdown",
   "id": "c4ac00f1-1c5a-4021-88fa-3cb238292bd5",
   "metadata": {},
   "source": [
    "Observations from the profit analysis:\n",
    "- LSTM strategy generated $\\$1153.52$ per share, while buy-and-hold yielded only $\\$36.71$ — a 30x profit improvement.\n",
    "\n",
    "- Adobe stock was highly volatile with limited overall growth during the 5 years, leading to frequent losses for buy-and-hold investors.\n",
    "\n",
    "- LSTM strategy delivered smoother, more consistent gains with much lower exposure to volatility.\n",
    "\n",
    "- Major market drawdowns (e.g., 2022, early 2024, early 2025) had limited impact on LSTM, showing the model's strong downside protection.\n",
    "\n",
    "Overall, the LSTM strategy not only vastly outperformed the buy-and-hold approach in absolute profit, but also provided a more stable and resilient path through a volatile market environment. Its ability to sidestep downturns while maintaining consistent growth highlights its strength as an active trading strategy."
   ]
  },
  {
   "cell_type": "markdown",
   "id": "38426c20-2c81-473b-8225-59ec9d45f8f3",
   "metadata": {},
   "source": [
    "[**Back to Content**](#content)"
   ]
  },
  {
   "cell_type": "markdown",
   "id": "0e33ac2c-9ae7-4e0e-a2f6-85567f5511a6",
   "metadata": {},
   "source": [
    "<a id='5.2'></a>\n",
    "## 5.2 Rolling Sharpe ratio analysis\n",
    "The Sharpe ratio measures return relative to risk:\n",
    "\n",
    "$$\\text{Sharpe Ratio}=\\frac{\\text{Mean Return}}{\\text{Standard Deviation of Return}}$$\n",
    "A rolling Sharpe ratio calculates this over a moving time window (e.g. 126 trading days ≈ 6 months), so we can see how a strategy’s risk-adjusted performance evolves. It highlights the model’s consistency, stability, and adaptability across different market conditions.\n",
    "\n",
    "In this analysis, we compute the 126-day rolling Sharpe ratio for both the LSTM-based strategy and the buy-and-hold benchmark over the past 5 years, and compare their trajectories as shown in the below illustration to assess relative performance.\n",
    "\n",
    "<center>\n",
    "  <img src=\"report_image/27_rolling_sharpe.png\" alt=\"27_rolling_sharpe\" width = 1000>\n",
    "</center>"
   ]
  },
  {
   "cell_type": "markdown",
   "id": "61d97868-8a12-45b1-b784-b32279c70667",
   "metadata": {},
   "source": [
    "Observations from the rolling Sharpe ratio comparison:\n",
    "\n",
    "- LSTM strategy maintains consistently higher Sharpe ratios than buy-and-hold across all periods.\n",
    "\n",
    "- Both strategies follow similar trends, indicating shared market exposure, but LSTM exhibits stronger resilience.\n",
    "\n",
    "- LSTM stays largely above zero, reflecting sustained positive risk-adjusted returns.\n",
    "\n",
    "- During major drawdowns (e.g., late 2021–mid 2022 and late 2023–mid 2024), the LSTM strategy shows less severe declines and quicker recoveries, indicating better downside control.\n",
    "\n",
    "Overall, the visualization highlights the LSTM strategy’s great ability to navigate volatile market conditions while preserving return consistency. Its elevated and stable Sharpe ratios shows effective signal learning and risk management."
   ]
  },
  {
   "cell_type": "markdown",
   "id": "9dc9405e-39d9-4dad-89ca-fe743e4d082d",
   "metadata": {},
   "source": [
    "[**Back to Content**](#content)"
   ]
  },
  {
   "cell_type": "markdown",
   "id": "e4ca35b1-7dd3-472c-9773-61afb9c25efd",
   "metadata": {},
   "source": [
    "<a id='5.3'></a>\n",
    "## 5.3 Underwater curve analysis\n",
    "\n",
    "An underwater curve is a visual representation of drawdowns over time — it shows how far an investment is below its previous peak.\n",
    "\n",
    "$$\\text{Underwater} = \\frac{\\text{Current Cumulative Return}}{\\text{Historical Peak}} - 1$$\n",
    "The values are always smaller than or equal to zero (zero means it's at a peak), and more negative means deeper drawdown.\n",
    "\n",
    "We can still use the daily return information from the LSTM strategy and the buy-and-hold approach to calculate their underwater values in the past 5 years and visualize them accordingly in the below illustration.\n",
    "\n",
    "<center>\n",
    "  <img src=\"report_image/28_underwater.png\" alt=\"28_underwater\" width = 900>\n",
    "</center>"
   ]
  },
  {
   "cell_type": "markdown",
   "id": "14048689-601d-4980-81a3-4dd4b046e5d3",
   "metadata": {},
   "source": [
    "Observations from the underwater curve comparison:\n",
    "- LSTM strategy exhibits frequent recovery to new highs, keeping its drawdowns shallow and short-lived. Most underwater periods remain above $-20\\%$, and recovery often occurs within months.\n",
    "\n",
    "- In contrast, the buy-and-hold approach suffers from long and deep drawdowns, including multi-year recovery periods and max drawdowns reaching $-60\\%$.\n",
    "\n",
    "- The volatility of drawdowns in LSTM is much lower than that of buy-and-hold, indicating better risk control from the baseline model.\n",
    "\n",
    "- In recent years, especially from 2022 to 2025, LSTM’s ability to recover quickly after market downturns contrasts sharply with buy-and-hold’s persistent underwater state.\n",
    "\n",
    "The underwater plot clearly shows that the LSTM strategy provides strong downside protection and quicker recovery compared to the buy-and-hold approach. While both strategies experience drawdowns during turbulent periods, LSTM’s drawdowns are more contained and typically followed by swift rebounds, indicating stronger resilience. "
   ]
  },
  {
   "cell_type": "markdown",
   "id": "278dc09c-4488-444a-a3bb-e7707cb8bcc4",
   "metadata": {},
   "source": [
    "[**Back to Content**](#content)"
   ]
  },
  {
   "cell_type": "markdown",
   "id": "d31fd07f-1a32-490b-a827-0f19a7c0ca81",
   "metadata": {},
   "source": [
    "<a id='5.4'></a>\n",
    "## 5.4 Pyfolio analysis ##\n",
    "Pyfolio is a Python library for analyzing portfolio performance and risk management, making it especially valuable for evaluating backtested trading strategies. It provides a comprehensive set of metrics to assess a strategy’s effectiveness.\n",
    "\n",
    "Below are the metrics provided by Pyfolio to evaluate the backtesting of the LSTM strategy and buy-and-hold approach.\n",
    "\n",
    "| Metrics                | LSTM strategy     | Buy-and-hold approach  |\n",
    "|------------------------|-------------------|------------------------|\n",
    "| **Start Date**         | 2020-05-14        | 2020-05-14             |\n",
    "| **End Date**           | 2025-07-01        | 2025-07-01             |\n",
    "| **Total Months**       | 61                | 61                     |\n",
    "| **Annual Return**      | 62.4%             | 1.8%                   |\n",
    "| **Cumulative Returns** | 1094.1%           | 9.4%                   |\n",
    "| **Annual Volatility**  | 26.1%             | 36.0%                  |\n",
    "| **Sharpe Ratio**       | 1.99              | 0.23                   |\n",
    "| **Calmar Ratio**       | 2.77              | 0.03                   |\n",
    "| **Stability**          | 0.97              | 0.00                   |\n",
    "| **Max Drawdown**       | -22.5%            | -60.0%                 |\n",
    "| **Omega Ratio**        | 1.63              | 1.04                   |\n",
    "| **Sortino Ratio**      | 3.04              | 0.31                   |\n",
    "| **Skew**               | -0.36             | -0.83                  |\n",
    "| **Kurtosis**           | 16.43             | 7.77                   |\n",
    "| **Tail Ratio**         | 1.38              | 0.95                   |\n",
    "| **Daily Value at Risk**| -3.1%             | -4.5%                  |\n"
   ]
  },
  {
   "cell_type": "markdown",
   "id": "1564e8df-4bce-4742-93ca-1844f2142184",
   "metadata": {},
   "source": [
    "Observations from the metrics by Pyfolio:\n",
    "- LSTM strategy achieved $62.4\\%$ annual return, much higher than $1.8\\%$ from the buy-and-hold. The gap of cumulative returns ($1094.1\\%$ vs. $9.4\\%$) is also quite significant.\n",
    "\n",
    "- Sharpe ratio ($1.99$) and Sortino ratio ($3.04$) indicate strong risk-adjusted returns for LSTM; buy-and-hold lags far behind with Sharpe of $0.23$ and Sortino of $0.31$.\n",
    "\n",
    "- LSTM volatility is lower ($26.1\\%$) compared to buy-and-hold ($36.0\\%$), showing more stable performance despite higher returns.\n",
    "\n",
    "- Max drawdown is much smaller for LSTM ($-22.5\\%$) than buy-and-hold ($-60\\%$), signaling better downside protection. This was also discussed in the waterdown curve analysis.\n",
    "\n",
    "**The LSTM strategy demonstrates not just impressive returns, but a good balance of profitability and risk management. It offers a significantly more attractive and robust approach for navigating volatile markets, making it a strong candidate for active trading.**"
   ]
  },
  {
   "cell_type": "markdown",
   "id": "06d8f84f-6202-4e87-84d8-90cedd9fa432",
   "metadata": {},
   "source": [
    "[**Back to Content**](#content)"
   ]
  },
  {
   "cell_type": "markdown",
   "id": "8abb46c4-b749-4c57-8fde-501056336b2e",
   "metadata": {},
   "source": [
    "<a id='6'></a>\n",
    "# 6. Conclusion"
   ]
  },
  {
   "cell_type": "markdown",
   "id": "969f06b0-4bf8-4109-8b4f-88880010041e",
   "metadata": {},
   "source": [
    "In this project, I explored the application of LSTM-based deep learning models in predicting upward movements of Adobe stock, and designed a strategy that outperforms traditional approaches in both returns and risk control.\n",
    "\n",
    "Through a comprehensive process — from sourcing and cleaning data, crafting features using diverse techniques, and performing exploratory analysis with multicollinearity reduction and scaling — to building and tuning baseline and variant models, the workflow reflects a rigorous approach of quantitative modeling.\n",
    "\n",
    "Beyond the technical outcomes, this project was a valuable learning experience for me as well. It deepened my understanding of deep learning in finance, enhanced my modeling skills, and strengthened my command of Python programming and modern ML libraries. I’m grateful to the CQF program for equipping me with the skills to complete this project, and to my family for their unwavering support during this intensive learning phase."
   ]
  },
  {
   "cell_type": "markdown",
   "id": "fdd45a4d-109a-4e30-b01e-7933b1400b0f",
   "metadata": {},
   "source": [
    "[**Back to Content**](#content)"
   ]
  }
 ],
 "metadata": {
  "kernelspec": {
   "display_name": "Python 3 (ipykernel)",
   "language": "python",
   "name": "python3"
  },
  "language_info": {
   "codemirror_mode": {
    "name": "ipython",
    "version": 3
   },
   "file_extension": ".py",
   "mimetype": "text/x-python",
   "name": "python",
   "nbconvert_exporter": "python",
   "pygments_lexer": "ipython3",
   "version": "3.10.16"
  }
 },
 "nbformat": 4,
 "nbformat_minor": 5
}
